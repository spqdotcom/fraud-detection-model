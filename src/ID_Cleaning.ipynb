{
 "cells": [
  {
   "cell_type": "markdown",
   "id": "845635c3-f6c7-44c9-b6c0-7119c4b5f5cd",
   "metadata": {},
   "source": [
    "# Importing tools"
   ]
  },
  {
   "cell_type": "code",
   "execution_count": 1,
   "id": "1e2fb4e8-1abf-4698-b796-c1d7af69ab8a",
   "metadata": {},
   "outputs": [],
   "source": [
    "import pandas as pd\n",
    "import numpy as np\n",
    "\n",
    "import matplotlib.pyplot as plt\n",
    "import seaborn as sns"
   ]
  },
  {
   "cell_type": "markdown",
   "id": "22bc532f-4b62-41de-9157-c64c2b783b74",
   "metadata": {},
   "source": [
    "# Import file"
   ]
  },
  {
   "cell_type": "code",
   "execution_count": 3,
   "id": "9cf377b1-c870-4bab-8934-b7d36a8353f8",
   "metadata": {},
   "outputs": [],
   "source": [
    "train_identity = 'train_identity.csv'"
   ]
  },
  {
   "cell_type": "code",
   "execution_count": 4,
   "id": "297eff95-5179-4e0c-9932-8d4807d27e7b",
   "metadata": {},
   "outputs": [],
   "source": [
    "df_id = pd.read_csv(train_identity)"
   ]
  },
  {
   "cell_type": "markdown",
   "id": "2cb9038e-4350-46f1-8880-3aec08a9cfbc",
   "metadata": {
    "jp-MarkdownHeadingCollapsed": true
   },
   "source": [
    "# Data exploration"
   ]
  },
  {
   "cell_type": "code",
   "execution_count": 11,
   "id": "6a7619a9-2c25-47a1-9dd0-e776ab2b14a0",
   "metadata": {},
   "outputs": [],
   "source": [
    "def create_summary_excel(df):\n",
    "    column_summary_df = pd.DataFrame({\n",
    "        'Column Name': df.columns,\n",
    "        'Data Type': df.dtypes.values,\n",
    "        'Percentage Null': df.isnull().mean().values * 100,\n",
    "        'Unique Values': df.nunique().values,\n",
    "        'Min': np.nan,\n",
    "        'Max': np.nan,\n",
    "        'Mean': np.nan,\n",
    "        'Median': np.nan,\n",
    "        'Std': np.nan,\n",
    "        'Unique Content': ''\n",
    "    })\n",
    "\n",
    "    include_stats = input(\"Do you want to include statistical data and unique values? (yes/no): \").strip().lower()\n",
    "\n",
    "    if include_stats == 'yes':\n",
    "        for i, col in enumerate(df.columns):\n",
    "            if pd.api.types.is_numeric_dtype(df[col]):\n",
    "                column_summary_df.at[i, 'Min'] = df[col].min()\n",
    "                column_summary_df.at[i, 'Max'] = df[col].max()\n",
    "                column_summary_df.at[i, 'Mean'] = df[col].mean()\n",
    "                column_summary_df.at[i, 'Median'] = df[col].median()\n",
    "                column_summary_df.at[i, 'Std'] = df[col].std()\n",
    "                # Add unique values if they are less than or equal to 50\n",
    "                if df[col].nunique() <= 50:\n",
    "                    column_summary_df.at[i, 'Unique Content'] = df[col].unique()\n",
    "\n",
    "            elif pd.api.types.is_object_dtype(df[col]):\n",
    "                # Add all unique values for object data type columns\n",
    "                column_summary_df.at[i, 'Unique Content'] = df[col].unique()\n",
    "\n",
    "    save_to_excel = input(\"Do you want to save the summary to an Excel file? (yes/no): \").strip().lower()\n",
    "    \n",
    "    if save_to_excel == 'yes':\n",
    "        file_name = input(\"Enter the file name (without extension): \").strip()\n",
    "        full_file_name = f\"{file_name}.xlsx\"\n",
    "        column_summary_df.to_excel(full_file_name, index=False, engine='openpyxl')\n",
    "        print(f\"File saved as {full_file_name}\")\n",
    "    else:\n",
    "        print(\"Summary not saved to an Excel file.\")\n",
    "    \n",
    "    print(\"\\nSummary DataFrame:\")\n",
    "    print(column_summary_df)"
   ]
  },
  {
   "cell_type": "code",
   "execution_count": 13,
   "id": "906b1b09-ccdd-4769-8242-640578e14f96",
   "metadata": {},
   "outputs": [],
   "source": [
    "def create_summary_csv(df):\n",
    "    column_summary_df = pd.DataFrame({\n",
    "        'Column Name': df.columns,\n",
    "        'Data Type': df.dtypes.values,\n",
    "        'Percentage Null': df.isnull().mean().values * 100,\n",
    "        'Unique Values': df.nunique().values,\n",
    "        'Min': np.nan,\n",
    "        'Max': np.nan,\n",
    "        'Mean': np.nan,\n",
    "        'Median': np.nan,\n",
    "        'Std': np.nan,\n",
    "        'Unique Content': ''\n",
    "    })\n",
    "\n",
    "    include_stats = input(\"Do you want to include statistical data and unique values? (yes/no): \").strip().lower()\n",
    "\n",
    "    if include_stats == 'yes':\n",
    "        for i, col in enumerate(df.columns):\n",
    "            if pd.api.types.is_numeric_dtype(df[col]):\n",
    "                column_summary_df.at[i, 'Min'] = df[col].min()\n",
    "                column_summary_df.at[i, 'Max'] = df[col].max()\n",
    "                column_summary_df.at[i, 'Mean'] = df[col].mean()\n",
    "                column_summary_df.at[i, 'Median'] = df[col].median()\n",
    "                column_summary_df.at[i, 'Std'] = df[col].std()\n",
    "                # Add unique values if they are less than or equal to 50\n",
    "                if df[col].nunique() <= 50:\n",
    "                    column_summary_df.at[i, 'Unique Content'] = df[col].unique()\n",
    "\n",
    "            elif pd.api.types.is_object_dtype(df[col]):\n",
    "                # Add all unique values for object data type columns\n",
    "                column_summary_df.at[i, 'Unique Content'] = df[col].unique()\n",
    "\n",
    "    save_to_csv = input(\"Do you want to save the summary to a CSV file? (yes/no): \").strip().lower()\n",
    "    \n",
    "    if save_to_csv == 'yes':\n",
    "        file_name = input(\"Enter the file name (without extension): \").strip()\n",
    "        full_file_name = f\"{file_name}.csv\"\n",
    "        column_summary_df.to_csv(full_file_name, index=False)\n",
    "        print(f\"File saved as {full_file_name}\")\n",
    "    else:\n",
    "        print(\"Summary not saved to a CSV file.\")\n",
    "    \n",
    "    print(\"\\nSummary DataFrame:\")\n",
    "    print(column_summary_df)"
   ]
  },
  {
   "cell_type": "code",
   "execution_count": 14,
   "id": "9719356b-42e9-406b-a0b7-5cdfeacaf027",
   "metadata": {},
   "outputs": [
    {
     "data": {
      "text/plain": [
       "(144233, 41)"
      ]
     },
     "execution_count": 14,
     "metadata": {},
     "output_type": "execute_result"
    }
   ],
   "source": [
    "df_id.shape"
   ]
  },
  {
   "cell_type": "code",
   "execution_count": 15,
   "id": "2b151607-1042-42a1-a32d-200c74154930",
   "metadata": {},
   "outputs": [
    {
     "name": "stdin",
     "output_type": "stream",
     "text": [
      "Do you want to include statistical data and unique values? (yes/no):  yes\n",
      "Do you want to save the summary to an Excel file? (yes/no):  yes\n",
      "Enter the file name (without extension):  df_id_before_cleaning\n"
     ]
    },
    {
     "name": "stdout",
     "output_type": "stream",
     "text": [
      "File saved as df_id_before_cleaning.xlsx\n",
      "\n",
      "Summary DataFrame:\n",
      "      Column Name Data Type  Percentage Null  Unique Values        Min  \\\n",
      "0   TransactionID     int64         0.000000         144233  2987004.0   \n",
      "1           id_01   float64         0.000000             77     -100.0   \n",
      "2           id_02   float64         2.330257         115655        1.0   \n",
      "3           id_03   float64        54.016071             24      -13.0   \n",
      "4           id_04   float64        54.016071             15      -28.0   \n",
      "5           id_05   float64         5.108401             93      -72.0   \n",
      "6           id_06   float64         5.108401            101     -100.0   \n",
      "7           id_07   float64        96.425922             84      -46.0   \n",
      "8           id_08   float64        96.425922             94     -100.0   \n",
      "9           id_09   float64        48.052110             46      -36.0   \n",
      "10          id_10   float64        48.052110             62     -100.0   \n",
      "11          id_11   float64         2.256765            365       90.0   \n",
      "12          id_12    object         0.000000              2        NaN   \n",
      "13          id_13   float64        11.726165             54       10.0   \n",
      "14          id_14   float64        44.503685             25     -660.0   \n",
      "15          id_15    object         2.251912              3        NaN   \n",
      "16          id_16    object        10.325654              2        NaN   \n",
      "17          id_17   float64         3.372321            104      100.0   \n",
      "18          id_18   float64        68.722137             18       10.0   \n",
      "19          id_19   float64         3.407681            522      100.0   \n",
      "20          id_20   float64         3.447200            394      100.0   \n",
      "21          id_21   float64        96.423149            490      100.0   \n",
      "22          id_22   float64        96.416215             25       10.0   \n",
      "23          id_23    object        96.416215              3        NaN   \n",
      "24          id_24   float64        96.708798             12       11.0   \n",
      "25          id_25   float64        96.441868            341      100.0   \n",
      "26          id_26   float64        96.420375             95      100.0   \n",
      "27          id_27    object        96.416215              2        NaN   \n",
      "28          id_28    object         2.256765              2        NaN   \n",
      "29          id_29    object         2.256765              2        NaN   \n",
      "30          id_30    object        46.222432             75        NaN   \n",
      "31          id_31    object         2.739318            130        NaN   \n",
      "32          id_32   float64        46.207872              4        0.0   \n",
      "33          id_33    object        49.187079            260        NaN   \n",
      "34          id_34    object        46.056034              4        NaN   \n",
      "35          id_35    object         2.251912              2        NaN   \n",
      "36          id_36    object         2.251912              2        NaN   \n",
      "37          id_37    object         2.251912              2        NaN   \n",
      "38          id_38    object         2.251912              2        NaN   \n",
      "39     DeviceType    object         2.373243              2        NaN   \n",
      "40     DeviceInfo    object        17.726179           1786        NaN   \n",
      "\n",
      "          Max          Mean     Median            Std  \\\n",
      "0   3577534.0  3.236329e+06  3198818.0  178849.571186   \n",
      "1         0.0 -1.017050e+01       -5.0      14.347949   \n",
      "2    999595.0  1.747166e+05   125800.5  159651.816856   \n",
      "3        10.0  6.018937e-02        0.0       0.598231   \n",
      "4         0.0 -5.893794e-02        0.0       0.701015   \n",
      "5        52.0  1.615585e+00        0.0       5.249856   \n",
      "6         0.0 -6.698710e+00        0.0      16.491104   \n",
      "7        61.0  1.328535e+01       14.0      11.384207   \n",
      "8         0.0 -3.860039e+01      -34.0      26.084899   \n",
      "9        25.0  9.102314e-02        0.0       0.983842   \n",
      "10        0.0 -3.011238e-01        0.0       2.789446   \n",
      "11      100.0  9.974532e+01      100.0       1.127602   \n",
      "12        NaN           NaN        NaN            NaN   \n",
      "13       64.0  4.805307e+01       52.0      11.774858   \n",
      "14      720.0 -3.445071e+02     -300.0      93.695502   \n",
      "15        NaN           NaN        NaN            NaN   \n",
      "16        NaN           NaN        NaN            NaN   \n",
      "17      229.0  1.894514e+02      166.0      30.375360   \n",
      "18       29.0  1.423734e+01       15.0       1.561302   \n",
      "19      671.0  3.531282e+02      341.0     141.095343   \n",
      "20      661.0  4.038827e+02      472.0     152.160327   \n",
      "21      854.0  3.682698e+02      252.0     198.847038   \n",
      "22       44.0  1.600271e+01       14.0       6.897665   \n",
      "23        NaN           NaN        NaN            NaN   \n",
      "24       26.0  1.280093e+01       11.0       2.372447   \n",
      "25      548.0  3.296089e+02      321.0      97.461089   \n",
      "26      216.0  1.490703e+02      149.0      32.101995   \n",
      "27        NaN           NaN        NaN            NaN   \n",
      "28        NaN           NaN        NaN            NaN   \n",
      "29        NaN           NaN        NaN            NaN   \n",
      "30        NaN           NaN        NaN            NaN   \n",
      "31        NaN           NaN        NaN            NaN   \n",
      "32       32.0  2.650860e+01       24.0       3.737502   \n",
      "33        NaN           NaN        NaN            NaN   \n",
      "34        NaN           NaN        NaN            NaN   \n",
      "35        NaN           NaN        NaN            NaN   \n",
      "36        NaN           NaN        NaN            NaN   \n",
      "37        NaN           NaN        NaN            NaN   \n",
      "38        NaN           NaN        NaN            NaN   \n",
      "39        NaN           NaN        NaN            NaN   \n",
      "40        NaN           NaN        NaN            NaN   \n",
      "\n",
      "                                       Unique Content  \n",
      "0                                                      \n",
      "1                                                      \n",
      "2                                                      \n",
      "3   [nan, 0.0, 3.0, 2.0, 5.0, 1.0, 6.0, 9.0, 4.0, ...  \n",
      "4   [nan, 0.0, -11.0, -5.0, -8.0, -1.0, -6.0, -9.0...  \n",
      "5                                                      \n",
      "6                                                      \n",
      "7                                                      \n",
      "8                                                      \n",
      "9   [nan, 0.0, 3.0, 2.0, 1.0, 5.0, -8.0, 7.0, 4.0,...  \n",
      "10                                                     \n",
      "11                                                     \n",
      "12                                  [NotFound, Found]  \n",
      "13                                                     \n",
      "14  [-480.0, -300.0, nan, -360.0, -420.0, -540.0, ...  \n",
      "15                         [New, Found, nan, Unknown]  \n",
      "16                             [NotFound, Found, nan]  \n",
      "17                                                     \n",
      "18  [nan, 15.0, 18.0, 13.0, 12.0, 20.0, 21.0, 14.0...  \n",
      "19                                                     \n",
      "20                                                     \n",
      "21                                                     \n",
      "22  [nan, 14.0, 41.0, 21.0, 33.0, 35.0, 19.0, 20.0...  \n",
      "23  [nan, IP_PROXY:TRANSPARENT, IP_PROXY:ANONYMOUS...  \n",
      "24  [nan, 11.0, 15.0, 16.0, 12.0, 21.0, 18.0, 25.0...  \n",
      "25                                                     \n",
      "26                                                     \n",
      "27                             [nan, Found, NotFound]  \n",
      "28                                  [New, Found, nan]  \n",
      "29                             [NotFound, Found, nan]  \n",
      "30  [Android 7.0, iOS 11.1.2, nan, Mac OS X 10_11_...  \n",
      "31  [samsung browser 6.2, mobile safari 11.0, chro...  \n",
      "32                       [32.0, nan, 24.0, 16.0, 0.0]  \n",
      "33  [2220x1080, 1334x750, nan, 1280x800, 1366x768,...  \n",
      "34  [match_status:2, match_status:1, nan, match_st...  \n",
      "35                                        [T, F, nan]  \n",
      "36                                        [F, nan, T]  \n",
      "37                                        [T, F, nan]  \n",
      "38                                        [T, nan, F]  \n",
      "39                             [mobile, desktop, nan]  \n",
      "40  [SAMSUNG SM-G892A Build/NRD90M, iOS Device, Wi...  \n"
     ]
    }
   ],
   "source": [
    "create_summary_excel(df_id)"
   ]
  },
  {
   "cell_type": "code",
   "execution_count": 17,
   "id": "24049b82-7dd5-49e7-9f11-ad230198f052",
   "metadata": {},
   "outputs": [
    {
     "name": "stdin",
     "output_type": "stream",
     "text": [
      "Do you want to include statistical data and unique values? (yes/no):  yes\n",
      "Do you want to save the summary to a CSV file? (yes/no):  yes\n",
      "Enter the file name (without extension):  df_id_before_cleaning\n"
     ]
    },
    {
     "name": "stdout",
     "output_type": "stream",
     "text": [
      "File saved as df_id_before_cleaning.csv\n",
      "\n",
      "Summary DataFrame:\n",
      "      Column Name Data Type  Percentage Null  Unique Values        Min  \\\n",
      "0   TransactionID     int64         0.000000         144233  2987004.0   \n",
      "1           id_01   float64         0.000000             77     -100.0   \n",
      "2           id_02   float64         2.330257         115655        1.0   \n",
      "3           id_03   float64        54.016071             24      -13.0   \n",
      "4           id_04   float64        54.016071             15      -28.0   \n",
      "5           id_05   float64         5.108401             93      -72.0   \n",
      "6           id_06   float64         5.108401            101     -100.0   \n",
      "7           id_07   float64        96.425922             84      -46.0   \n",
      "8           id_08   float64        96.425922             94     -100.0   \n",
      "9           id_09   float64        48.052110             46      -36.0   \n",
      "10          id_10   float64        48.052110             62     -100.0   \n",
      "11          id_11   float64         2.256765            365       90.0   \n",
      "12          id_12    object         0.000000              2        NaN   \n",
      "13          id_13   float64        11.726165             54       10.0   \n",
      "14          id_14   float64        44.503685             25     -660.0   \n",
      "15          id_15    object         2.251912              3        NaN   \n",
      "16          id_16    object        10.325654              2        NaN   \n",
      "17          id_17   float64         3.372321            104      100.0   \n",
      "18          id_18   float64        68.722137             18       10.0   \n",
      "19          id_19   float64         3.407681            522      100.0   \n",
      "20          id_20   float64         3.447200            394      100.0   \n",
      "21          id_21   float64        96.423149            490      100.0   \n",
      "22          id_22   float64        96.416215             25       10.0   \n",
      "23          id_23    object        96.416215              3        NaN   \n",
      "24          id_24   float64        96.708798             12       11.0   \n",
      "25          id_25   float64        96.441868            341      100.0   \n",
      "26          id_26   float64        96.420375             95      100.0   \n",
      "27          id_27    object        96.416215              2        NaN   \n",
      "28          id_28    object         2.256765              2        NaN   \n",
      "29          id_29    object         2.256765              2        NaN   \n",
      "30          id_30    object        46.222432             75        NaN   \n",
      "31          id_31    object         2.739318            130        NaN   \n",
      "32          id_32   float64        46.207872              4        0.0   \n",
      "33          id_33    object        49.187079            260        NaN   \n",
      "34          id_34    object        46.056034              4        NaN   \n",
      "35          id_35    object         2.251912              2        NaN   \n",
      "36          id_36    object         2.251912              2        NaN   \n",
      "37          id_37    object         2.251912              2        NaN   \n",
      "38          id_38    object         2.251912              2        NaN   \n",
      "39     DeviceType    object         2.373243              2        NaN   \n",
      "40     DeviceInfo    object        17.726179           1786        NaN   \n",
      "\n",
      "          Max          Mean     Median            Std  \\\n",
      "0   3577534.0  3.236329e+06  3198818.0  178849.571186   \n",
      "1         0.0 -1.017050e+01       -5.0      14.347949   \n",
      "2    999595.0  1.747166e+05   125800.5  159651.816856   \n",
      "3        10.0  6.018937e-02        0.0       0.598231   \n",
      "4         0.0 -5.893794e-02        0.0       0.701015   \n",
      "5        52.0  1.615585e+00        0.0       5.249856   \n",
      "6         0.0 -6.698710e+00        0.0      16.491104   \n",
      "7        61.0  1.328535e+01       14.0      11.384207   \n",
      "8         0.0 -3.860039e+01      -34.0      26.084899   \n",
      "9        25.0  9.102314e-02        0.0       0.983842   \n",
      "10        0.0 -3.011238e-01        0.0       2.789446   \n",
      "11      100.0  9.974532e+01      100.0       1.127602   \n",
      "12        NaN           NaN        NaN            NaN   \n",
      "13       64.0  4.805307e+01       52.0      11.774858   \n",
      "14      720.0 -3.445071e+02     -300.0      93.695502   \n",
      "15        NaN           NaN        NaN            NaN   \n",
      "16        NaN           NaN        NaN            NaN   \n",
      "17      229.0  1.894514e+02      166.0      30.375360   \n",
      "18       29.0  1.423734e+01       15.0       1.561302   \n",
      "19      671.0  3.531282e+02      341.0     141.095343   \n",
      "20      661.0  4.038827e+02      472.0     152.160327   \n",
      "21      854.0  3.682698e+02      252.0     198.847038   \n",
      "22       44.0  1.600271e+01       14.0       6.897665   \n",
      "23        NaN           NaN        NaN            NaN   \n",
      "24       26.0  1.280093e+01       11.0       2.372447   \n",
      "25      548.0  3.296089e+02      321.0      97.461089   \n",
      "26      216.0  1.490703e+02      149.0      32.101995   \n",
      "27        NaN           NaN        NaN            NaN   \n",
      "28        NaN           NaN        NaN            NaN   \n",
      "29        NaN           NaN        NaN            NaN   \n",
      "30        NaN           NaN        NaN            NaN   \n",
      "31        NaN           NaN        NaN            NaN   \n",
      "32       32.0  2.650860e+01       24.0       3.737502   \n",
      "33        NaN           NaN        NaN            NaN   \n",
      "34        NaN           NaN        NaN            NaN   \n",
      "35        NaN           NaN        NaN            NaN   \n",
      "36        NaN           NaN        NaN            NaN   \n",
      "37        NaN           NaN        NaN            NaN   \n",
      "38        NaN           NaN        NaN            NaN   \n",
      "39        NaN           NaN        NaN            NaN   \n",
      "40        NaN           NaN        NaN            NaN   \n",
      "\n",
      "                                       Unique Content  \n",
      "0                                                      \n",
      "1                                                      \n",
      "2                                                      \n",
      "3   [nan, 0.0, 3.0, 2.0, 5.0, 1.0, 6.0, 9.0, 4.0, ...  \n",
      "4   [nan, 0.0, -11.0, -5.0, -8.0, -1.0, -6.0, -9.0...  \n",
      "5                                                      \n",
      "6                                                      \n",
      "7                                                      \n",
      "8                                                      \n",
      "9   [nan, 0.0, 3.0, 2.0, 1.0, 5.0, -8.0, 7.0, 4.0,...  \n",
      "10                                                     \n",
      "11                                                     \n",
      "12                                  [NotFound, Found]  \n",
      "13                                                     \n",
      "14  [-480.0, -300.0, nan, -360.0, -420.0, -540.0, ...  \n",
      "15                         [New, Found, nan, Unknown]  \n",
      "16                             [NotFound, Found, nan]  \n",
      "17                                                     \n",
      "18  [nan, 15.0, 18.0, 13.0, 12.0, 20.0, 21.0, 14.0...  \n",
      "19                                                     \n",
      "20                                                     \n",
      "21                                                     \n",
      "22  [nan, 14.0, 41.0, 21.0, 33.0, 35.0, 19.0, 20.0...  \n",
      "23  [nan, IP_PROXY:TRANSPARENT, IP_PROXY:ANONYMOUS...  \n",
      "24  [nan, 11.0, 15.0, 16.0, 12.0, 21.0, 18.0, 25.0...  \n",
      "25                                                     \n",
      "26                                                     \n",
      "27                             [nan, Found, NotFound]  \n",
      "28                                  [New, Found, nan]  \n",
      "29                             [NotFound, Found, nan]  \n",
      "30  [Android 7.0, iOS 11.1.2, nan, Mac OS X 10_11_...  \n",
      "31  [samsung browser 6.2, mobile safari 11.0, chro...  \n",
      "32                       [32.0, nan, 24.0, 16.0, 0.0]  \n",
      "33  [2220x1080, 1334x750, nan, 1280x800, 1366x768,...  \n",
      "34  [match_status:2, match_status:1, nan, match_st...  \n",
      "35                                        [T, F, nan]  \n",
      "36                                        [F, nan, T]  \n",
      "37                                        [T, F, nan]  \n",
      "38                                        [T, nan, F]  \n",
      "39                             [mobile, desktop, nan]  \n",
      "40  [SAMSUNG SM-G892A Build/NRD90M, iOS Device, Wi...  \n"
     ]
    }
   ],
   "source": [
    "create_summary_csv(df_id)"
   ]
  },
  {
   "cell_type": "markdown",
   "id": "dc3bb865-175f-48dd-a76b-9e727cdb5b3c",
   "metadata": {
    "jp-MarkdownHeadingCollapsed": true
   },
   "source": [
    "# Normalization"
   ]
  },
  {
   "cell_type": "markdown",
   "id": "b997c4da-9aec-4155-a335-bd330dcce31d",
   "metadata": {},
   "source": [
    "### ID"
   ]
  },
  {
   "cell_type": "markdown",
   "id": "13a60106-067a-48cf-8cfc-e994dc701146",
   "metadata": {},
   "source": [
    "Categóricas transformadas: id_12, id_15, id_16, id_23, id_27, id_28, id_29, id_30, id_31, id_33, id_34, id_35, id_36, id_37, id_38, DeviceType, DeviceInfo\n",
    "\n",
    "Numéricas en float32: id_01, id_02, id_03, id_04, id_05, id_06, id_07, id_08, id_09, id_10, id_11, id_13, id_14, id_17, id_18, id_19, id_20, id_21, id_22, id_24, id_25, id_26, id_32\n",
    "\n",
    "Columnas binarias: id_11_38_present, id_02_DeviceType_present, id_31_present, id_17_20_present, id_05_06_present, id_13_present, id_16_present, id_03_04_present, id_09_10_present, id_14_present, id_18_present, id_07_27_present, id_24_present"
   ]
  },
  {
   "cell_type": "markdown",
   "id": "5a51f0a9-2961-4381-8126-dfcbc887636d",
   "metadata": {},
   "source": [
    "#### Columns names- to _ ID"
   ]
  },
  {
   "cell_type": "code",
   "execution_count": 292,
   "id": "7f7e7a5e-e510-497e-996b-5102654dab36",
   "metadata": {},
   "outputs": [],
   "source": [
    "df_id.columns = df_id.columns.str.replace('-', '_')"
   ]
  },
  {
   "cell_type": "markdown",
   "id": "f466f5e0-f4a0-4d43-9e71-76320e304898",
   "metadata": {},
   "source": [
    "#### Conversion from float64 to float32"
   ]
  },
  {
   "cell_type": "code",
   "execution_count": 294,
   "id": "16a3aa79-6d4b-4434-b7c3-420282f4463b",
   "metadata": {},
   "outputs": [],
   "source": [
    "float64_cols = df_id.select_dtypes(include=['float64']).columns\n",
    "\n",
    "df_id[float64_cols] = df_id[float64_cols].astype('float32')"
   ]
  },
  {
   "cell_type": "markdown",
   "id": "525210f9-0ec5-4248-8558-0de3e5803ecc",
   "metadata": {},
   "source": [
    "#### ['id_35', 'id_36', 'id_37', 'id_38'] to boolean and float32"
   ]
  },
  {
   "cell_type": "code",
   "execution_count": 297,
   "id": "84805e13-bbbc-475b-8e0c-92e81f5b8966",
   "metadata": {},
   "outputs": [],
   "source": [
    "cat_cols = ['id_35', 'id_36', 'id_37', 'id_38']\n",
    "\n",
    "for col in cat_cols:\n",
    "    df_id[col] = df_id[col].map({'T': 1, 'F': 0}).astype('float32')"
   ]
  },
  {
   "cell_type": "code",
   "execution_count": 299,
   "id": "3359d7c9-296b-4b9f-9bc6-a0889b59359c",
   "metadata": {},
   "outputs": [
    {
     "name": "stdout",
     "output_type": "stream",
     "text": [
      "   id_35  id_36  id_37  id_38\n",
      "0    1.0    0.0    1.0    1.0\n",
      "1    1.0    0.0    0.0    1.0\n",
      "2    0.0    0.0    1.0    1.0\n",
      "3    0.0    0.0    1.0    1.0\n",
      "4    1.0    0.0    1.0    1.0\n",
      "id_35    float32\n",
      "id_36    float32\n",
      "id_37    float32\n",
      "id_38    float32\n",
      "dtype: object\n",
      "id_35    3248\n",
      "id_36    3248\n",
      "id_37    3248\n",
      "id_38    3248\n",
      "dtype: int64\n"
     ]
    }
   ],
   "source": [
    "print(df_id[cat_cols].head())\n",
    "print(df_id[cat_cols].dtypes)\n",
    "print(df_id[cat_cols].isnull().sum())"
   ]
  },
  {
   "cell_type": "code",
   "execution_count": 301,
   "id": "8df1791c-fc6a-44c7-8fd5-701f204c1a97",
   "metadata": {},
   "outputs": [
    {
     "name": "stdout",
     "output_type": "stream",
     "text": [
      "       id_35  id_36  id_37  id_38\n",
      "id_35    1.0    1.0    1.0    1.0\n",
      "id_36    1.0    1.0    1.0    1.0\n",
      "id_37    1.0    1.0    1.0    1.0\n",
      "id_38    1.0    1.0    1.0    1.0\n"
     ]
    }
   ],
   "source": [
    "print(df_id[cat_cols].isnull().corr())"
   ]
  },
  {
   "cell_type": "code",
   "execution_count": 303,
   "id": "88b79dd2-da45-4785-82f2-c76b49f074c3",
   "metadata": {},
   "outputs": [],
   "source": [
    "group_cols = ['id_35', 'id_36', 'id_37', 'id_38']\n",
    "\n",
    "df_id['id_35_38_present'] = df_id[group_cols].notnull().any(axis=1).astype('int')"
   ]
  },
  {
   "cell_type": "code",
   "execution_count": 305,
   "id": "73bef21b-7de7-4cc9-93b2-ee59db826e9a",
   "metadata": {},
   "outputs": [
    {
     "name": "stdout",
     "output_type": "stream",
     "text": [
      "   id_35  id_36  id_37  id_38  id_35_38_present\n",
      "0    1.0    0.0    1.0    1.0                 1\n",
      "1    1.0    0.0    0.0    1.0                 1\n",
      "2    0.0    0.0    1.0    1.0                 1\n",
      "3    0.0    0.0    1.0    1.0                 1\n",
      "4    1.0    0.0    1.0    1.0                 1\n",
      "5    1.0    0.0    1.0    1.0                 1\n",
      "6    NaN    NaN    NaN    NaN                 0\n",
      "7    1.0    0.0    1.0    1.0                 1\n",
      "8    0.0    0.0    1.0    1.0                 1\n",
      "9    0.0    0.0    1.0    1.0                 1\n",
      "id_35  id_36  id_37  id_38\n",
      "0.0    0.0    1.0    0.0      35280\n",
      "1.0    0.0    1.0    1.0      34228\n",
      "                     0.0      19907\n",
      "0.0    0.0    1.0    1.0      14725\n",
      "1.0    0.0    0.0    1.0       9954\n",
      "                     0.0       9263\n",
      "0.0    0.0    0.0    0.0       7642\n",
      "1.0    1.0    1.0    1.0       4001\n",
      "0.0    0.0    0.0    1.0       3067\n",
      "       1.0    1.0    0.0       1674\n",
      "                     1.0        605\n",
      "1.0    1.0    0.0    1.0        427\n",
      "0.0    1.0    0.0    0.0        122\n",
      "                     1.0         56\n",
      "1.0    1.0    1.0    0.0         32\n",
      "              0.0    0.0          2\n",
      "Name: count, dtype: int64\n"
     ]
    }
   ],
   "source": [
    "print(df_id[group_cols + ['id_35_38_present']].head(10))\n",
    "\n",
    "print(df_id[group_cols].dropna().value_counts())"
   ]
  },
  {
   "cell_type": "markdown",
   "id": "390b5028-6b6b-4744-8cfb-c32e13b15c1a",
   "metadata": {},
   "source": [
    "#### Convert to number and float32 number and float32[id_15, id_28, id_29] "
   ]
  },
  {
   "cell_type": "code",
   "execution_count": 308,
   "id": "9d75d38c-4a45-4b41-a8f6-67d5b4216224",
   "metadata": {},
   "outputs": [],
   "source": [
    "df_id['id_15'] = df_id['id_15'].map({'New': 0, 'Found': 1, 'Unknown': 2}).astype('float32')\n",
    "df_id['id_28'] = df_id['id_28'].map({'New': 0, 'Found': 1}).astype('float32')\n",
    "df_id['id_29'] = df_id['id_29'].map({'NotFound': 0, 'Found': 1}).astype('float32')"
   ]
  },
  {
   "cell_type": "markdown",
   "id": "2687aae3-f284-4254-81f5-d999b161fbc3",
   "metadata": {},
   "source": [
    "#### Correlation check ['id_11', 'id_15', 'id_28', 'id_29', 'id_35', 'id_36', 'id_37', 'id_38'] "
   ]
  },
  {
   "cell_type": "code",
   "execution_count": 311,
   "id": "af75073b-b3f6-4372-8177-fe3370699224",
   "metadata": {},
   "outputs": [
    {
     "name": "stdout",
     "output_type": "stream",
     "text": [
      "          id_11     id_15     id_28     id_29     id_35     id_36     id_37  \\\n",
      "id_11  1.000000  0.998899  1.000000  1.000000  0.998899  0.998899  0.998899   \n",
      "id_15  0.998899  1.000000  0.998899  0.998899  1.000000  1.000000  1.000000   \n",
      "id_28  1.000000  0.998899  1.000000  1.000000  0.998899  0.998899  0.998899   \n",
      "id_29  1.000000  0.998899  1.000000  1.000000  0.998899  0.998899  0.998899   \n",
      "id_35  0.998899  1.000000  0.998899  0.998899  1.000000  1.000000  1.000000   \n",
      "id_36  0.998899  1.000000  0.998899  0.998899  1.000000  1.000000  1.000000   \n",
      "id_37  0.998899  1.000000  0.998899  0.998899  1.000000  1.000000  1.000000   \n",
      "id_38  0.998899  1.000000  0.998899  0.998899  1.000000  1.000000  1.000000   \n",
      "\n",
      "          id_38  \n",
      "id_11  0.998899  \n",
      "id_15  1.000000  \n",
      "id_28  0.998899  \n",
      "id_29  0.998899  \n",
      "id_35  1.000000  \n",
      "id_36  1.000000  \n",
      "id_37  1.000000  \n",
      "id_38  1.000000  \n"
     ]
    }
   ],
   "source": [
    "cols_to_check = ['id_11', 'id_15', 'id_28', 'id_29', 'id_35', 'id_36', 'id_37', 'id_38']\n",
    "print(df_id[cols_to_check].isnull().corr())"
   ]
  },
  {
   "cell_type": "code",
   "execution_count": 313,
   "id": "19bdbc3d-9630-4101-93a1-53820a05efd3",
   "metadata": {},
   "outputs": [],
   "source": [
    "df_id['id_11_38_present'] = df_id[cols_to_check].notnull().any(axis=1).astype('int')"
   ]
  },
  {
   "cell_type": "code",
   "execution_count": 315,
   "id": "1e8aef4b-8a0c-40c0-880d-311c412e3295",
   "metadata": {},
   "outputs": [
    {
     "name": "stdout",
     "output_type": "stream",
     "text": [
      "   id_11  id_15  id_28  id_29  id_35  id_36  id_37  id_38  id_11_38_present\n",
      "0  100.0    0.0    0.0    0.0    1.0    0.0    1.0    1.0                 1\n",
      "1  100.0    0.0    0.0    0.0    1.0    0.0    0.0    1.0                 1\n",
      "2  100.0    1.0    1.0    1.0    0.0    0.0    1.0    1.0                 1\n",
      "3  100.0    0.0    0.0    0.0    0.0    0.0    1.0    1.0                 1\n",
      "4  100.0    1.0    1.0    1.0    1.0    0.0    1.0    1.0                 1\n"
     ]
    }
   ],
   "source": [
    "print(df_id[cols_to_check + ['id_11_38_present']].head())"
   ]
  },
  {
   "cell_type": "code",
   "execution_count": 317,
   "id": "8ecc17a3-a5bc-41c3-a625-d9e0b6d56251",
   "metadata": {},
   "outputs": [
    {
     "name": "stdout",
     "output_type": "stream",
     "text": [
      "id_11       id_15  id_28  id_29  id_35  id_36  id_37  id_38\n",
      "100.000000  1.0    1.0    1.0    1.0    0.0    1.0    1.0      20544\n",
      "                                 0.0    0.0    1.0    0.0      18998\n",
      "            0.0    0.0    0.0    0.0    0.0    1.0    0.0      15061\n",
      "            1.0    1.0    1.0    1.0    0.0    1.0    0.0      11670\n",
      "            0.0    0.0    0.0    1.0    0.0    1.0    1.0      10830\n",
      "                                                               ...  \n",
      "94.739998   2.0    1.0    1.0    1.0    0.0    0.0    0.0          1\n",
      "94.760002   2.0    1.0    1.0    1.0    0.0    0.0    1.0          1\n",
      "94.790001   0.0    1.0    1.0    1.0    0.0    1.0    0.0          1\n",
      "                                        1.0    1.0    1.0          1\n",
      "95.510002   1.0    1.0    1.0    1.0    1.0    1.0    1.0          1\n",
      "Name: count, Length: 967, dtype: int64\n"
     ]
    }
   ],
   "source": [
    "print(df_id[cols_to_check].dropna().value_counts())"
   ]
  },
  {
   "cell_type": "markdown",
   "id": "03d49444-886d-449c-921f-7533880e0bc2",
   "metadata": {},
   "source": [
    "#### ['id_07', 'id_08', 'id_21', 'id_22', 'id_23', 'id_24', 'id_25', 'id_26', 'id_27']"
   ]
  },
  {
   "cell_type": "code",
   "execution_count": 320,
   "id": "31babf71-9202-4099-8f6f-4b2af46cd2bd",
   "metadata": {},
   "outputs": [
    {
     "name": "stdout",
     "output_type": "stream",
     "text": [
      "          id_07     id_08     id_21     id_22     id_23     id_24     id_25  \\\n",
      "id_07  1.000000  1.000000  0.997587  0.998595  0.998595  0.958207  0.994862   \n",
      "id_08  1.000000  1.000000  0.997587  0.998595  0.998595  0.958207  0.994862   \n",
      "id_21  0.997587  0.997587  1.000000  0.998996  0.998996  0.956566  0.995268   \n",
      "id_22  0.998595  0.998595  0.998996  1.000000  1.000000  0.956860  0.996282   \n",
      "id_23  0.998595  0.998595  0.998996  1.000000  1.000000  0.956860  0.996282   \n",
      "id_24  0.958207  0.958207  0.956566  0.956860  0.956860  1.000000  0.952878   \n",
      "id_25  0.994862  0.994862  0.995268  0.996282  0.996282  0.952878  1.000000   \n",
      "id_26  0.997990  0.997990  0.998392  0.999398  0.999398  0.956181  0.996681   \n",
      "id_27  0.998595  0.998595  0.998996  1.000000  1.000000  0.956860  0.996282   \n",
      "\n",
      "          id_26     id_27  \n",
      "id_07  0.997990  0.998595  \n",
      "id_08  0.997990  0.998595  \n",
      "id_21  0.998392  0.998996  \n",
      "id_22  0.999398  1.000000  \n",
      "id_23  0.999398  1.000000  \n",
      "id_24  0.956181  0.956860  \n",
      "id_25  0.996681  0.996282  \n",
      "id_26  1.000000  0.999398  \n",
      "id_27  0.999398  1.000000  \n"
     ]
    }
   ],
   "source": [
    "cols_to_check = ['id_07', 'id_08', 'id_21', 'id_22', 'id_23', 'id_24', 'id_25', 'id_26', 'id_27']\n",
    "print(df_id[cols_to_check].isnull().corr())"
   ]
  },
  {
   "cell_type": "code",
   "execution_count": 322,
   "id": "80d82a73-3155-48cf-8992-7474bfb6354a",
   "metadata": {},
   "outputs": [],
   "source": [
    "float_cols = ['id_07', 'id_08', 'id_21', 'id_22', 'id_24', 'id_25', 'id_26']\n",
    "df_id[float_cols] = df_id[float_cols].astype('float32')\n",
    "\n",
    "df_id['id_07_27_present'] = df_id[cols_to_check].notnull().any(axis=1).astype('int')"
   ]
  },
  {
   "cell_type": "code",
   "execution_count": 324,
   "id": "d84c8dc8-1853-4a78-8d78-79692513b166",
   "metadata": {},
   "outputs": [
    {
     "name": "stdout",
     "output_type": "stream",
     "text": [
      "   id_07  id_08  id_21  id_22 id_23  id_24  id_25  id_26 id_27  \\\n",
      "0    NaN    NaN    NaN    NaN   NaN    NaN    NaN    NaN   NaN   \n",
      "1    NaN    NaN    NaN    NaN   NaN    NaN    NaN    NaN   NaN   \n",
      "2    NaN    NaN    NaN    NaN   NaN    NaN    NaN    NaN   NaN   \n",
      "3    NaN    NaN    NaN    NaN   NaN    NaN    NaN    NaN   NaN   \n",
      "4    NaN    NaN    NaN    NaN   NaN    NaN    NaN    NaN   NaN   \n",
      "5    NaN    NaN    NaN    NaN   NaN    NaN    NaN    NaN   NaN   \n",
      "6    NaN    NaN    NaN    NaN   NaN    NaN    NaN    NaN   NaN   \n",
      "7    NaN    NaN    NaN    NaN   NaN    NaN    NaN    NaN   NaN   \n",
      "8    NaN    NaN    NaN    NaN   NaN    NaN    NaN    NaN   NaN   \n",
      "9    NaN    NaN    NaN    NaN   NaN    NaN    NaN    NaN   NaN   \n",
      "\n",
      "   id_07_27_present  \n",
      "0                 0  \n",
      "1                 0  \n",
      "2                 0  \n",
      "3                 0  \n",
      "4                 0  \n",
      "5                 0  \n",
      "6                 0  \n",
      "7                 0  \n",
      "8                 0  \n",
      "9                 0  \n"
     ]
    }
   ],
   "source": [
    "print(df_id[cols_to_check + ['id_07_27_present']].head(10))"
   ]
  },
  {
   "cell_type": "code",
   "execution_count": 326,
   "id": "1ca1a502-9c3c-40c2-a2e9-6f2b4279a136",
   "metadata": {},
   "outputs": [
    {
     "name": "stdout",
     "output_type": "stream",
     "text": [
      "id_23                 id_27   \n",
      "IP_PROXY:TRANSPARENT  Found       3476\n",
      "IP_PROXY:ANONYMOUS    Found       1070\n",
      "IP_PROXY:HIDDEN       Found        609\n",
      "IP_PROXY:TRANSPARENT  NotFound      13\n",
      "IP_PROXY:ANONYMOUS    NotFound       1\n",
      "Name: count, dtype: int64\n",
      "id_07  id_08   id_21\n",
      "0.0     0.0    252.0    37\n",
      "               255.0    35\n",
      "13.0   -34.0   252.0    20\n",
      "16.0   -35.0   252.0    18\n",
      "17.0   -100.0  252.0    18\n",
      "                        ..\n",
      "8.0    -27.0   432.0     1\n",
      "       -26.0   770.0     1\n",
      "       -25.0   252.0     1\n",
      "       -24.0   286.0     1\n",
      "61.0   -51.0   252.0     1\n",
      "Name: count, Length: 3003, dtype: int64\n"
     ]
    }
   ],
   "source": [
    "print(df_id[['id_23', 'id_27']].dropna().value_counts()) \n",
    "print(df_id[['id_07', 'id_08', 'id_21']].dropna().value_counts())"
   ]
  },
  {
   "cell_type": "markdown",
   "id": "04a75e68-59dc-4f8b-a753-0cddc3429a4c",
   "metadata": {},
   "source": [
    "#### ['id_12'] to boolean and float32"
   ]
  },
  {
   "cell_type": "code",
   "execution_count": 329,
   "id": "0412fede-2aef-44ce-8f8c-f12d6f44a852",
   "metadata": {},
   "outputs": [],
   "source": [
    "df_id['id_12'] = df_id['id_12'].map({'NotFound': 0, 'Found': 1}).astype('float32')"
   ]
  },
  {
   "cell_type": "code",
   "execution_count": 331,
   "id": "7673bac8-7891-4e5a-82ba-b3fb726e40ef",
   "metadata": {},
   "outputs": [
    {
     "name": "stdout",
     "output_type": "stream",
     "text": [
      "0    0.0\n",
      "1    0.0\n",
      "2    0.0\n",
      "3    0.0\n",
      "4    0.0\n",
      "Name: id_12, dtype: float32\n",
      "id_12\n",
      "0.0    123025\n",
      "1.0     21208\n",
      "Name: count, dtype: int64\n",
      "float32\n"
     ]
    }
   ],
   "source": [
    "print(df_id['id_12'].head())\n",
    "print(df_id['id_12'].value_counts())\n",
    "print(df_id['id_12'].dtype)"
   ]
  },
  {
   "cell_type": "code",
   "execution_count": 333,
   "id": "9ad71e5c-5b50-440a-9377-82389614c7f6",
   "metadata": {},
   "outputs": [
    {
     "name": "stdout",
     "output_type": "stream",
     "text": [
      "id_12  DeviceType\n",
      "0.0    desktop       70630\n",
      "       mobile        49475\n",
      "1.0    desktop       14535\n",
      "       mobile         6170\n",
      "Name: count, dtype: int64\n"
     ]
    }
   ],
   "source": [
    "print(df_id.groupby('id_12')['DeviceType'].value_counts())"
   ]
  },
  {
   "cell_type": "markdown",
   "id": "c3b9ac4f-c4b1-4c1d-aba9-691a836ac6dc",
   "metadata": {},
   "source": [
    "#### ['id_16'] to boolean and float32"
   ]
  },
  {
   "cell_type": "code",
   "execution_count": 336,
   "id": "e7c41d1a-2ae4-406a-b5e3-ffa52740afe2",
   "metadata": {},
   "outputs": [],
   "source": [
    "df_id['id_16'] = df_id['id_16'].map({'NotFound': 0, 'Found': 1}).astype('float32')"
   ]
  },
  {
   "cell_type": "code",
   "execution_count": 338,
   "id": "1b2410a5-94e1-4aea-a607-768e76354e2a",
   "metadata": {},
   "outputs": [
    {
     "name": "stdout",
     "output_type": "stream",
     "text": [
      "0    0.0\n",
      "1    0.0\n",
      "2    1.0\n",
      "3    0.0\n",
      "4    1.0\n",
      "Name: id_16, dtype: float32\n",
      "id_16\n",
      "1.0    66324\n",
      "0.0    63016\n",
      "NaN    14893\n",
      "Name: count, dtype: int64\n",
      "float32\n"
     ]
    }
   ],
   "source": [
    "print(df_id['id_16'].head())\n",
    "print(df_id['id_16'].value_counts(dropna=False))\n",
    "print(df_id['id_16'].dtype)"
   ]
  },
  {
   "cell_type": "markdown",
   "id": "e2d1260a-594d-4daa-a8c9-52c7359b0b94",
   "metadata": {},
   "source": [
    "#### ['id_30', 'id_32', 'id_33', 'id_34']"
   ]
  },
  {
   "cell_type": "code",
   "execution_count": 341,
   "id": "0684f80d-30d1-4ae5-9e7f-c99b2cfb98c8",
   "metadata": {},
   "outputs": [
    {
     "name": "stdout",
     "output_type": "stream",
     "text": [
      "          id_30     id_32     id_33     id_34\n",
      "id_30  1.000000  0.999707  0.941712  0.974840\n",
      "id_32  0.999707  1.000000  0.942020  0.975132\n",
      "id_33  0.941712  0.942020  1.000000  0.918669\n",
      "id_34  0.974840  0.975132  0.918669  1.000000\n"
     ]
    }
   ],
   "source": [
    "cols_to_check = ['id_30', 'id_32', 'id_33', 'id_34']\n",
    "print(df_id[cols_to_check].isnull().corr())"
   ]
  },
  {
   "cell_type": "markdown",
   "id": "50e22e42-a993-47b1-8fbe-8ea30b9d636b",
   "metadata": {},
   "source": [
    "##### ['id_34']"
   ]
  },
  {
   "cell_type": "code",
   "execution_count": 344,
   "id": "58dbc93d-caf7-4517-b900-49fa2cd0d313",
   "metadata": {},
   "outputs": [],
   "source": [
    "df_id['id_34'] = df_id['id_34'].map({\n",
    "    'match_status:2': 2,\n",
    "    'match_status:1': 1,\n",
    "    'match_status:0': 0,\n",
    "    'match_status:-1': -1\n",
    "}).astype('float32')"
   ]
  },
  {
   "cell_type": "markdown",
   "id": "7b554fb9-6d2e-42df-9dea-cd5bc2d240e9",
   "metadata": {},
   "source": [
    "##### ['id_30']"
   ]
  },
  {
   "cell_type": "code",
   "execution_count": 347,
   "id": "7269ebee-736a-4367-a147-d232769271da",
   "metadata": {},
   "outputs": [],
   "source": [
    "def group_os(os):\n",
    "    if pd.isna(os):\n",
    "        return 'nan'\n",
    "    os = os.lower()\n",
    "    if 'android' in os:\n",
    "        return 'Android'\n",
    "    elif 'ios' in os:\n",
    "        return 'iOS'\n",
    "    elif 'windows' in os:\n",
    "        return 'Windows'\n",
    "    elif 'mac' in os:\n",
    "        return 'Mac'\n",
    "    else:\n",
    "        return 'Other'"
   ]
  },
  {
   "cell_type": "code",
   "execution_count": 349,
   "id": "8b8a9850-d460-4aab-9450-8fbb1727da50",
   "metadata": {},
   "outputs": [],
   "source": [
    "df_id['id_30_grouped'] = df_id['id_30'].apply(group_os)\n",
    "df_id['id_30'] = df_id['id_30_grouped'].map({\n",
    "    'Android': 0,\n",
    "    'iOS': 1,\n",
    "    'Windows': 2,\n",
    "    'Mac': 3,\n",
    "    'Other': 4,\n",
    "    'nan': float('nan')\n",
    "}).astype('float32')\n",
    "df_id = df_id.drop(columns=['id_30_grouped'])"
   ]
  },
  {
   "cell_type": "markdown",
   "id": "532a3e81-c195-4ce7-82e2-84e7ea02e95b",
   "metadata": {},
   "source": [
    "##### ['id_30', 'id_32', 'id_33', 'id_34']"
   ]
  },
  {
   "cell_type": "code",
   "execution_count": 352,
   "id": "76dc62b7-aabf-4902-9d33-e96c9136c0b1",
   "metadata": {},
   "outputs": [],
   "source": [
    "df_id['id_30_34_present'] = df_id[cols_to_check].notnull().any(axis=1).astype('int')"
   ]
  },
  {
   "cell_type": "markdown",
   "id": "a399bd3c-e1f6-4b0c-9407-57ef66d85d3c",
   "metadata": {},
   "source": [
    "#### ['DeviceType']"
   ]
  },
  {
   "cell_type": "code",
   "execution_count": 355,
   "id": "afe31ebf-dcb9-4a46-b8ca-23ab8516e398",
   "metadata": {},
   "outputs": [],
   "source": [
    "df_id['DeviceType'] = df_id['DeviceType'].map({\n",
    "    'mobile': 0,\n",
    "    'desktop': 1\n",
    "}).astype('float32')"
   ]
  },
  {
   "cell_type": "markdown",
   "id": "70f22f52-4763-45c3-a570-4b8bcbd4abf5",
   "metadata": {},
   "source": [
    "#### ['id_31']"
   ]
  },
  {
   "cell_type": "code",
   "execution_count": 358,
   "id": "bdb266d0-a8a8-405d-bc15-a3b3ea4e36f7",
   "metadata": {},
   "outputs": [],
   "source": [
    "def group_browser(browser):\n",
    "    if pd.isna(browser):\n",
    "        return 'nan'\n",
    "    browser = browser.lower()\n",
    "    if 'chrome' in browser:\n",
    "        return 'Chrome'\n",
    "    elif 'safari' in browser:\n",
    "        return 'Safari'\n",
    "    elif 'firefox' in browser:\n",
    "        return 'Firefox'\n",
    "    elif 'samsung' in browser:\n",
    "        return 'Samsung'\n",
    "    else:\n",
    "        return 'Other'"
   ]
  },
  {
   "cell_type": "code",
   "execution_count": 360,
   "id": "94ff10ae-8b39-42ae-8893-d0f6aa58bc75",
   "metadata": {},
   "outputs": [],
   "source": [
    "df_id['id_31_grouped'] = df_id['id_31'].apply(group_browser)\n",
    "df_id['id_31'] = df_id['id_31_grouped'].map({\n",
    "    'Chrome': 0,\n",
    "    'Safari': 1,\n",
    "    'Firefox': 2,\n",
    "    'Samsung': 3,\n",
    "    'Other': 4,\n",
    "    'nan': float('nan')\n",
    "}).astype('float32')\n",
    "df_id = df_id.drop(columns=['id_31_grouped'])"
   ]
  },
  {
   "cell_type": "markdown",
   "id": "7e46ab1d-9c0d-4df9-a1b5-2ef739f99a8f",
   "metadata": {},
   "source": [
    "#### ['DeviceInfo']"
   ]
  },
  {
   "cell_type": "code",
   "execution_count": 363,
   "id": "0df422a2-2a89-4865-8df3-8b754ec6fd12",
   "metadata": {},
   "outputs": [],
   "source": [
    "def group_device_info(device):\n",
    "    if pd.isna(device):\n",
    "        return 'nan'\n",
    "    device = device.lower()\n",
    "    if 'samsung' in device:\n",
    "        return 'Samsung'\n",
    "    elif 'ios' in device:\n",
    "        return 'iOS'\n",
    "    elif 'windows' in device:\n",
    "        return 'Windows'\n",
    "    elif 'mac' in device:\n",
    "        return 'Mac'\n",
    "    else:\n",
    "        return 'Other'"
   ]
  },
  {
   "cell_type": "code",
   "execution_count": 365,
   "id": "d481c060-91c6-4c90-97eb-ba0a1195d74c",
   "metadata": {},
   "outputs": [],
   "source": [
    "df_id['DeviceInfo_grouped'] = df_id['DeviceInfo'].apply(group_device_info)\n",
    "df_id['DeviceInfo'] = df_id['DeviceInfo_grouped'].map({\n",
    "    'Samsung': 0,\n",
    "    'iOS': 1,\n",
    "    'Windows': 2,\n",
    "    'Mac': 3,\n",
    "    'Other': 4,\n",
    "    'nan': float('nan')\n",
    "}).astype('float32')\n",
    "df_id = df_id.drop(columns=['DeviceInfo_grouped'])"
   ]
  },
  {
   "cell_type": "markdown",
   "id": "3efb544e-c0b1-469a-8c53-20b00223daf1",
   "metadata": {},
   "source": [
    "#### Show results"
   ]
  },
  {
   "cell_type": "code",
   "execution_count": 368,
   "id": "a755a217-6ea8-4a36-ab7f-79b38b09e20c",
   "metadata": {},
   "outputs": [
    {
     "name": "stdout",
     "output_type": "stream",
     "text": [
      "   id_30  id_31  id_32      id_33  id_34  DeviceType  DeviceInfo  \\\n",
      "0    0.0    3.0   32.0  2220x1080    2.0         0.0         0.0   \n",
      "1    1.0    1.0   32.0   1334x750    1.0         0.0         1.0   \n",
      "2    NaN    0.0    NaN        NaN    NaN         1.0         2.0   \n",
      "3    NaN    0.0    NaN        NaN    NaN         1.0         NaN   \n",
      "4    3.0    0.0   24.0   1280x800    2.0         1.0         3.0   \n",
      "\n",
      "   id_30_34_present  \n",
      "0                 1  \n",
      "1                 1  \n",
      "2                 0  \n",
      "3                 0  \n",
      "4                 1  \n",
      "id_30\n",
      "NaN    66668\n",
      "2.0    36739\n",
      "1.0    19782\n",
      "3.0    13580\n",
      "0.0     6303\n",
      "4.0     1161\n",
      "Name: count, dtype: int64\n",
      "id_31\n",
      "0.0    76059\n",
      "1.0    37281\n",
      "4.0    17678\n",
      "2.0     7017\n",
      "NaN     3951\n",
      "3.0     2247\n",
      "Name: count, dtype: int64\n",
      "DeviceType\n",
      "1.0    85165\n",
      "0.0    55645\n",
      "NaN     3423\n",
      "Name: count, dtype: int64\n",
      "DeviceInfo\n",
      "2.0    47775\n",
      "4.0    35844\n",
      "NaN    25567\n",
      "1.0    19782\n",
      "3.0    12573\n",
      "0.0     2692\n",
      "Name: count, dtype: int64\n"
     ]
    }
   ],
   "source": [
    "print(df_id[['id_30', 'id_31', 'id_32', 'id_33', 'id_34', 'DeviceType', 'DeviceInfo', 'id_30_34_present']].head())\n",
    "print(df_id['id_30'].value_counts(dropna=False))\n",
    "print(df_id['id_31'].value_counts(dropna=False))\n",
    "print(df_id['DeviceType'].value_counts(dropna=False))\n",
    "print(df_id['DeviceInfo'].value_counts(dropna=False))"
   ]
  },
  {
   "cell_type": "code",
   "execution_count": 370,
   "id": "9ca3538f-f679-40d3-8ada-b4fc0a9923ba",
   "metadata": {},
   "outputs": [
    {
     "name": "stdout",
     "output_type": "stream",
     "text": [
      "               id_02     id_11     id_15     id_28     id_29     id_35  \\\n",
      "id_02       1.000000  0.981568  0.982652  0.981568  0.981568  0.982652   \n",
      "id_11       0.981568  1.000000  0.998899  1.000000  1.000000  0.998899   \n",
      "id_15       0.982652  0.998899  1.000000  0.998899  0.998899  1.000000   \n",
      "id_28       0.981568  1.000000  0.998899  1.000000  1.000000  0.998899   \n",
      "id_29       0.981568  1.000000  0.998899  1.000000  1.000000  0.998899   \n",
      "id_35       0.982652  0.998899  1.000000  0.998899  0.998899  1.000000   \n",
      "id_36       0.982652  0.998899  1.000000  0.998899  0.998899  1.000000   \n",
      "id_37       0.982652  0.998899  1.000000  0.998899  0.998899  1.000000   \n",
      "id_38       0.982652  0.998899  1.000000  0.998899  0.998899  1.000000   \n",
      "DeviceType  0.990684  0.974570  0.973498  0.974570  0.974570  0.973498   \n",
      "id_31       0.920385  0.905414  0.904418  0.905414  0.905414  0.904418   \n",
      "\n",
      "               id_36     id_37     id_38  DeviceType     id_31  \n",
      "id_02       0.982652  0.982652  0.982652    0.990684  0.920385  \n",
      "id_11       0.998899  0.998899  0.998899    0.974570  0.905414  \n",
      "id_15       1.000000  1.000000  1.000000    0.973498  0.904418  \n",
      "id_28       0.998899  0.998899  0.998899    0.974570  0.905414  \n",
      "id_29       0.998899  0.998899  0.998899    0.974570  0.905414  \n",
      "id_35       1.000000  1.000000  1.000000    0.973498  0.904418  \n",
      "id_36       1.000000  1.000000  1.000000    0.973498  0.904418  \n",
      "id_37       1.000000  1.000000  1.000000    0.973498  0.904418  \n",
      "id_38       1.000000  1.000000  1.000000    0.973498  0.904418  \n",
      "DeviceType  0.973498  0.973498  0.973498    1.000000  0.915087  \n",
      "id_31       0.904418  0.904418  0.904418    0.915087  1.000000  \n"
     ]
    }
   ],
   "source": [
    "cols_to_check = ['id_02', 'id_11', 'id_15', 'id_28', 'id_29', 'id_35', 'id_36', 'id_37', 'id_38', 'DeviceType', 'id_31']\n",
    "print(df_id[cols_to_check].isnull().corr())"
   ]
  },
  {
   "cell_type": "code",
   "execution_count": 372,
   "id": "531eaf26-e18d-42e5-ab40-dc3605d00000",
   "metadata": {},
   "outputs": [],
   "source": [
    "subgroup_cols = ['id_02', 'DeviceType']\n",
    "df_id['id_02_DeviceType_present'] = df_id[subgroup_cols].notnull().any(axis=1).astype('int')"
   ]
  },
  {
   "cell_type": "code",
   "execution_count": 374,
   "id": "a2b20858-ac80-46d2-a260-fd8433a0bec7",
   "metadata": {},
   "outputs": [],
   "source": [
    "df_id['id_31_present'] = df_id['id_31'].notnull().astype('int')"
   ]
  },
  {
   "cell_type": "code",
   "execution_count": 376,
   "id": "5bad650d-ef6d-4a8c-add1-b86418903846",
   "metadata": {},
   "outputs": [
    {
     "name": "stdout",
     "output_type": "stream",
     "text": [
      "      id_02  DeviceType  id_02_DeviceType_present\n",
      "0   70787.0         0.0                         1\n",
      "1   98945.0         0.0                         1\n",
      "2  191631.0         1.0                         1\n",
      "3  221832.0         1.0                         1\n",
      "4    7460.0         1.0                         1\n",
      "   id_31  id_31_present\n",
      "0    3.0              1\n",
      "1    1.0              1\n",
      "2    0.0              1\n",
      "3    0.0              1\n",
      "4    0.0              1\n"
     ]
    }
   ],
   "source": [
    "print(df_id[['id_02', 'DeviceType', 'id_02_DeviceType_present']].head())\n",
    "print(df_id[['id_31', 'id_31_present']].head())"
   ]
  },
  {
   "cell_type": "markdown",
   "id": "a4c20d01-0fa7-4202-ac27-5c533f4f1d03",
   "metadata": {},
   "source": [
    "#### ['id_17', 'id_19', 'id_20']"
   ]
  },
  {
   "cell_type": "code",
   "execution_count": 379,
   "id": "fafa295c-539e-47ba-98c4-99fd02cf6539",
   "metadata": {},
   "outputs": [
    {
     "name": "stdout",
     "output_type": "stream",
     "text": [
      "          id_17     id_19     id_20\n",
      "id_17  1.000000  0.994616  0.988696\n",
      "id_19  0.994616  1.000000  0.983784\n",
      "id_20  0.988696  0.983784  1.000000\n"
     ]
    }
   ],
   "source": [
    "cols_to_check = ['id_17', 'id_19', 'id_20']\n",
    "print(df_id[cols_to_check].isnull().corr())"
   ]
  },
  {
   "cell_type": "code",
   "execution_count": 381,
   "id": "ec4f6e6e-a5f0-4099-8b5d-585daf4cfece",
   "metadata": {},
   "outputs": [],
   "source": [
    "df_id['id_17_20_present'] = df_id[cols_to_check].notnull().any(axis=1).astype('int')"
   ]
  },
  {
   "cell_type": "code",
   "execution_count": 383,
   "id": "d27e138c-5e76-4b51-9fd8-a98c529f84e8",
   "metadata": {},
   "outputs": [
    {
     "name": "stdout",
     "output_type": "stream",
     "text": [
      "   id_17  id_19  id_20  id_17_20_present\n",
      "0  166.0  542.0  144.0                 1\n",
      "1  166.0  621.0  500.0                 1\n",
      "2  121.0  410.0  142.0                 1\n",
      "3  225.0  176.0  507.0                 1\n",
      "4  166.0  529.0  575.0                 1\n",
      "5  166.0  529.0  600.0                 1\n",
      "6    NaN    NaN    NaN                 0\n",
      "7  166.0  352.0  533.0                 1\n",
      "8  121.0  410.0  142.0                 1\n",
      "9  225.0  484.0  507.0                 1\n"
     ]
    }
   ],
   "source": [
    "print(df_id[cols_to_check + ['id_17_20_present']].head(10))"
   ]
  },
  {
   "cell_type": "markdown",
   "id": "52a7835f-33fb-4286-8cc6-5c3481f2570b",
   "metadata": {},
   "source": [
    "#### ['id_05', 'id_06']"
   ]
  },
  {
   "cell_type": "code",
   "execution_count": 386,
   "id": "e3679f0f-99e3-4e7a-b28b-2327b01410b1",
   "metadata": {},
   "outputs": [
    {
     "name": "stdout",
     "output_type": "stream",
     "text": [
      "       id_05  id_06\n",
      "id_05    1.0    1.0\n",
      "id_06    1.0    1.0\n"
     ]
    }
   ],
   "source": [
    "cols_to_check = ['id_05', 'id_06']\n",
    "print(df_id[cols_to_check].isnull().corr())"
   ]
  },
  {
   "cell_type": "code",
   "execution_count": 388,
   "id": "2259212b-0d27-4145-b634-271888f25536",
   "metadata": {},
   "outputs": [],
   "source": [
    "df_id[cols_to_check] = df_id[cols_to_check].astype('float32')"
   ]
  },
  {
   "cell_type": "code",
   "execution_count": 390,
   "id": "5dfe000b-0cc3-4027-a593-f49e0ad21567",
   "metadata": {},
   "outputs": [],
   "source": [
    "df_id['id_05_06_present'] = df_id[cols_to_check].notnull().any(axis=1).astype('int')"
   ]
  },
  {
   "cell_type": "code",
   "execution_count": 392,
   "id": "e911b76f-4386-49f7-839b-14b582e21edf",
   "metadata": {},
   "outputs": [
    {
     "name": "stdout",
     "output_type": "stream",
     "text": [
      "   id_05  id_06  id_05_06_present\n",
      "0    NaN    NaN                 0\n",
      "1    0.0   -5.0                 1\n",
      "2    0.0    0.0                 1\n",
      "3    0.0   -6.0                 1\n",
      "4    1.0    0.0                 1\n",
      "5    3.0    0.0                 1\n",
      "6    NaN    NaN                 0\n",
      "7    0.0  -10.0                 1\n",
      "8    0.0    0.0                 1\n",
      "9    0.0    0.0                 1\n"
     ]
    }
   ],
   "source": [
    "print(df_id[cols_to_check + ['id_05_06_present']].head(10))"
   ]
  },
  {
   "cell_type": "markdown",
   "id": "a5501867-cdd3-42fd-a6b7-3be65e11ea86",
   "metadata": {},
   "source": [
    "#### ['id_13', 'id_16']"
   ]
  },
  {
   "cell_type": "code",
   "execution_count": 395,
   "id": "fc077b92-352c-4bf4-baaf-6a7c6817b9c4",
   "metadata": {},
   "outputs": [
    {
     "name": "stdout",
     "output_type": "stream",
     "text": [
      "          id_13     id_16\n",
      "id_13  1.000000 -0.123676\n",
      "id_16 -0.123676  1.000000\n"
     ]
    }
   ],
   "source": [
    "cols_to_check = ['id_13', 'id_16']\n",
    "print(df_id[cols_to_check].isnull().corr())"
   ]
  },
  {
   "cell_type": "code",
   "execution_count": 397,
   "id": "ac8d4af5-0ba4-4dfa-b736-2a1014f3944c",
   "metadata": {},
   "outputs": [
    {
     "name": "stdout",
     "output_type": "stream",
     "text": [
      "Filas con NaN en ambas (id_13 y id_16): 0\n",
      "Filas con NaN en id_13 pero no en id_16: 16913\n",
      "Filas con NaN en id_16 pero no en id_13: 14893\n"
     ]
    }
   ],
   "source": [
    "both_nan = df_id[['id_13', 'id_16']].isna().all(axis=1).sum()\n",
    "print(f\"Filas con NaN en ambas (id_13 y id_16): {both_nan}\")\n",
    "\n",
    "id_13_nan_id_16_not_nan = df_id[df_id['id_13'].isna() & df_id['id_16'].notna()].shape[0]\n",
    "print(f\"Filas con NaN en id_13 pero no en id_16: {id_13_nan_id_16_not_nan}\")\n",
    "\n",
    "id_16_nan_id_13_not_nan = df_id[df_id['id_16'].isna() & df_id['id_13'].notna()].shape[0]\n",
    "print(f\"Filas con NaN en id_16 pero no en id_13: {id_16_nan_id_13_not_nan}\")"
   ]
  },
  {
   "cell_type": "code",
   "execution_count": 399,
   "id": "1dddf781-3d4d-4667-a91a-fe6c3198e359",
   "metadata": {},
   "outputs": [],
   "source": [
    "df_id['id_13_present'] = df_id['id_13'].notnull().astype('int')"
   ]
  },
  {
   "cell_type": "code",
   "execution_count": 401,
   "id": "f0108904-0218-45f0-8a0b-2370a79506ea",
   "metadata": {},
   "outputs": [],
   "source": [
    "df_id['id_16_present'] = df_id['id_16'].notnull().astype('int')"
   ]
  },
  {
   "cell_type": "markdown",
   "id": "84497e76-c568-46d6-a446-e7e871244686",
   "metadata": {},
   "source": [
    "#### ['id_03', 'id_04', 'id_09', 'id_10', 'id_14']"
   ]
  },
  {
   "cell_type": "code",
   "execution_count": 404,
   "id": "02fa1884-3e16-426d-bfb6-6bcb10c61525",
   "metadata": {},
   "outputs": [
    {
     "name": "stdout",
     "output_type": "stream",
     "text": [
      "          id_03     id_04     id_09     id_10     id_14\n",
      "id_03  1.000000  1.000000  0.885495  0.885495  0.074897\n",
      "id_04  1.000000  1.000000  0.885495  0.885495  0.074897\n",
      "id_09  0.885495  0.885495  1.000000  1.000000  0.100100\n",
      "id_10  0.885495  0.885495  1.000000  1.000000  0.100100\n",
      "id_14  0.074897  0.074897  0.100100  0.100100  1.000000\n"
     ]
    }
   ],
   "source": [
    "cols_to_check = ['id_03', 'id_04', 'id_09', 'id_10', 'id_14']\n",
    "print(df_id[cols_to_check].isnull().corr())"
   ]
  },
  {
   "cell_type": "code",
   "execution_count": 406,
   "id": "7224eff9-174c-4bb1-8502-0ea085f8216e",
   "metadata": {},
   "outputs": [
    {
     "name": "stdout",
     "output_type": "stream",
     "text": [
      "   id_03  id_04  id_09  id_10  id_14  id_03_04_present  id_09_10_present  \\\n",
      "0    NaN    NaN    NaN    NaN -480.0                 0                 0   \n",
      "1    NaN    NaN    NaN    NaN -300.0                 0                 0   \n",
      "2    0.0    0.0    0.0    0.0    NaN                 1                 1   \n",
      "3    NaN    NaN    NaN    NaN    NaN                 0                 0   \n",
      "4    0.0    0.0    0.0    0.0 -300.0                 1                 1   \n",
      "5    3.0    0.0    3.0    0.0 -300.0                 1                 1   \n",
      "6    NaN    NaN    NaN    NaN    NaN                 0                 0   \n",
      "7    0.0    0.0    0.0    0.0 -300.0                 1                 1   \n",
      "8    0.0    0.0    0.0    0.0    NaN                 1                 1   \n",
      "9    NaN    NaN    NaN    NaN    NaN                 0                 0   \n",
      "\n",
      "   id_14_present  \n",
      "0              1  \n",
      "1              1  \n",
      "2              0  \n",
      "3              0  \n",
      "4              1  \n",
      "5              1  \n",
      "6              0  \n",
      "7              1  \n",
      "8              0  \n",
      "9              0  \n"
     ]
    }
   ],
   "source": [
    "df_id['id_03_04_present'] = df_id[['id_03', 'id_04']].notnull().any(axis=1).astype('int')\n",
    "\n",
    "df_id['id_09_10_present'] = df_id[['id_09', 'id_10']].notnull().any(axis=1).astype('int')\n",
    "\n",
    "df_id['id_14_present'] = df_id['id_14'].notnull().astype('int')\n",
    "\n",
    "print(df_id[cols_to_check + ['id_03_04_present', 'id_09_10_present', 'id_14_present']].head(10))"
   ]
  },
  {
   "cell_type": "markdown",
   "id": "a4a30ff9-00ff-42dc-b19d-99c987425700",
   "metadata": {},
   "source": [
    "#### ['id_18']"
   ]
  },
  {
   "cell_type": "code",
   "execution_count": 409,
   "id": "0f2f208d-b1b6-4c32-ab6c-2d688cab1f59",
   "metadata": {},
   "outputs": [],
   "source": [
    "df_id['id_18_present'] = df_id['id_18'].notnull().astype('int')"
   ]
  },
  {
   "cell_type": "code",
   "execution_count": 411,
   "id": "22a90fa1-382b-4ab1-806c-8370540ecf32",
   "metadata": {},
   "outputs": [
    {
     "name": "stdout",
     "output_type": "stream",
     "text": [
      "   id_18  id_18_present\n",
      "0    NaN              0\n",
      "1    NaN              0\n",
      "2    NaN              0\n",
      "3    NaN              0\n",
      "4   15.0              1\n",
      "5   18.0              1\n",
      "6    NaN              0\n",
      "7   15.0              1\n",
      "8    NaN              0\n",
      "9    NaN              0\n",
      "Filas con NaN en id_18: 99120\n",
      "Filas con id_18_present = 0: 99120\n"
     ]
    }
   ],
   "source": [
    "print(df_id[['id_18', 'id_18_present']].head(10))\n",
    "print(f\"Filas con NaN en id_18: {df_id['id_18'].isna().sum()}\")\n",
    "print(f\"Filas con id_18_present = 0: {df_id['id_18_present'].eq(0).sum()}\")"
   ]
  },
  {
   "cell_type": "markdown",
   "id": "ae8c8381-b2ef-40ec-a9cf-24f870d50538",
   "metadata": {},
   "source": [
    "#### ['id_07', 'id_08', 'id_21', 'id_22', 'id_23', 'id_24', 'id_25', 'id_26', 'id_27']"
   ]
  },
  {
   "cell_type": "code",
   "execution_count": 414,
   "id": "08c81316-a61e-4f7b-ab82-fac1c74ed8c3",
   "metadata": {},
   "outputs": [
    {
     "name": "stdout",
     "output_type": "stream",
     "text": [
      "          id_07     id_08     id_21     id_22     id_23     id_24     id_25  \\\n",
      "id_07  1.000000  1.000000  0.997587  0.998595  0.998595  0.958207  0.994862   \n",
      "id_08  1.000000  1.000000  0.997587  0.998595  0.998595  0.958207  0.994862   \n",
      "id_21  0.997587  0.997587  1.000000  0.998996  0.998996  0.956566  0.995268   \n",
      "id_22  0.998595  0.998595  0.998996  1.000000  1.000000  0.956860  0.996282   \n",
      "id_23  0.998595  0.998595  0.998996  1.000000  1.000000  0.956860  0.996282   \n",
      "id_24  0.958207  0.958207  0.956566  0.956860  0.956860  1.000000  0.952878   \n",
      "id_25  0.994862  0.994862  0.995268  0.996282  0.996282  0.952878  1.000000   \n",
      "id_26  0.997990  0.997990  0.998392  0.999398  0.999398  0.956181  0.996681   \n",
      "id_27  0.998595  0.998595  0.998996  1.000000  1.000000  0.956860  0.996282   \n",
      "\n",
      "          id_26     id_27  \n",
      "id_07  0.997990  0.998595  \n",
      "id_08  0.997990  0.998595  \n",
      "id_21  0.998392  0.998996  \n",
      "id_22  0.999398  1.000000  \n",
      "id_23  0.999398  1.000000  \n",
      "id_24  0.956181  0.956860  \n",
      "id_25  0.996681  0.996282  \n",
      "id_26  1.000000  0.999398  \n",
      "id_27  0.999398  1.000000  \n"
     ]
    }
   ],
   "source": [
    "cols_to_check = ['id_07', 'id_08', 'id_21', 'id_22', 'id_23', 'id_24', 'id_25', 'id_26', 'id_27']\n",
    "print(df_id[cols_to_check].isnull().corr())"
   ]
  },
  {
   "cell_type": "code",
   "execution_count": 416,
   "id": "8ef3cc8d-c0df-46b4-a398-bcbe2d87afdc",
   "metadata": {},
   "outputs": [
    {
     "name": "stdout",
     "output_type": "stream",
     "text": [
      "Rows with NaN in all: 139064\n"
     ]
    }
   ],
   "source": [
    "all_nan = df_id[cols_to_check].isna().all(axis=1).sum()\n",
    "print(f\"Rows with NaN in all: {all_nan}\")"
   ]
  },
  {
   "cell_type": "code",
   "execution_count": 418,
   "id": "b718d377-466b-4964-9d71-2130dd35b52d",
   "metadata": {},
   "outputs": [
    {
     "name": "stdout",
     "output_type": "stream",
     "text": [
      "Rows with NaN in id_24 but not in all others: 422\n"
     ]
    }
   ],
   "source": [
    "id_24_nan_others_not = df_id[df_id['id_24'].isna() & ~df_id[['id_07', 'id_08', 'id_21', 'id_22', 'id_23', 'id_25', 'id_26', 'id_27']].isna().all(axis=1)].shape[0]\n",
    "print(f\"Rows with NaN in id_24 but not in all others: {id_24_nan_others_not}\")"
   ]
  },
  {
   "cell_type": "code",
   "execution_count": 420,
   "id": "a9743501-fc9b-48e9-9bc5-79485d06af3c",
   "metadata": {},
   "outputs": [
    {
     "name": "stdout",
     "output_type": "stream",
     "text": [
      "      id_07  id_08  id_21  id_22               id_23  id_24  id_25  id_26  \\\n",
      "383     4.0  -44.0  369.0   21.0  IP_PROXY:ANONYMOUS    NaN  205.0  191.0   \n",
      "1105   10.0  -21.0  255.0   41.0  IP_PROXY:ANONYMOUS    NaN  356.0  215.0   \n",
      "1107    5.0  -21.0  255.0   41.0  IP_PROXY:ANONYMOUS    NaN  356.0  215.0   \n",
      "1230    1.0  -11.0  457.0   41.0     IP_PROXY:HIDDEN    NaN  191.0  215.0   \n",
      "1253    1.0  -11.0  457.0   41.0     IP_PROXY:HIDDEN    NaN  191.0  215.0   \n",
      "\n",
      "      id_27  \n",
      "383   Found  \n",
      "1105  Found  \n",
      "1107  Found  \n",
      "1230  Found  \n",
      "1253  Found  \n"
     ]
    }
   ],
   "source": [
    "id_24_nan_subset = df_id[df_id['id_24'].isna() & ~df_id[['id_07', 'id_08', 'id_21', 'id_22', 'id_23', 'id_25', 'id_26', 'id_27']].isna().all(axis=1)]\n",
    "print(id_24_nan_subset[['id_07', 'id_08', 'id_21', 'id_22', 'id_23', 'id_24', 'id_25', 'id_26', 'id_27']].head())"
   ]
  },
  {
   "cell_type": "markdown",
   "id": "a1db4127-ca1c-4857-9821-12fd57d9cd23",
   "metadata": {},
   "source": [
    "#### ['id_33']"
   ]
  },
  {
   "cell_type": "code",
   "execution_count": 423,
   "id": "f7938d7d-dc4f-4212-bec0-1637d79638bf",
   "metadata": {},
   "outputs": [],
   "source": [
    "def group_resolution(res):\n",
    "    if pd.isna(res):\n",
    "        return float('nan')\n",
    "    try:\n",
    "        width, height = map(int, res.split('x'))\n",
    "        area = width * height\n",
    "        if area <= 1_000_000:\n",
    "            return 'small'\n",
    "        elif area <= 2_500_000:\n",
    "            return 'medium'\n",
    "        else:\n",
    "            return 'large'\n",
    "    except:\n",
    "        return 'other'"
   ]
  },
  {
   "cell_type": "code",
   "execution_count": 425,
   "id": "9d902172-7ccc-46e8-9eb4-626bf370d9c1",
   "metadata": {},
   "outputs": [],
   "source": [
    "df_id['id_33_grouped'] = df_id['id_33'].apply(group_resolution)"
   ]
  },
  {
   "cell_type": "code",
   "execution_count": 427,
   "id": "c6f4320e-5821-4317-b4ca-9acd21642b8b",
   "metadata": {},
   "outputs": [],
   "source": [
    "df_id['id_33'] = df_id['id_33_grouped'].map({\n",
    "    'small': 0,\n",
    "    'medium': 1,\n",
    "    'large': 2,\n",
    "    'other': 3,\n",
    "    'nan': float('nan')\n",
    "}).astype('float32')"
   ]
  },
  {
   "cell_type": "code",
   "execution_count": 429,
   "id": "a80f3365-cf45-4064-b93c-fa2e63864f6e",
   "metadata": {},
   "outputs": [],
   "source": [
    "df_id = df_id.drop(columns=['id_33_grouped'])"
   ]
  },
  {
   "cell_type": "code",
   "execution_count": 431,
   "id": "ea5dc13d-94c9-482e-9b32-93feb1da2419",
   "metadata": {},
   "outputs": [
    {
     "name": "stdout",
     "output_type": "stream",
     "text": [
      "id_33\n",
      "NaN    70944\n",
      "1.0    49747\n",
      "2.0    18904\n",
      "0.0     4638\n",
      "Name: count, dtype: int64\n"
     ]
    }
   ],
   "source": [
    "print(df_id['id_33'].value_counts(dropna=False))"
   ]
  },
  {
   "cell_type": "markdown",
   "id": "f48cfe9c-2e76-466e-a93b-d9761521c02c",
   "metadata": {},
   "source": [
    "Categóricas transformadas: id_12, id_15, id_16, id_23, id_27, id_28, id_29, id_30, id_31, id_33, id_34, id_35, id_36, id_37, id_38, DeviceType, DeviceInfo\n",
    "\n",
    "Numéricas en float32: id_01, id_02, id_03, id_04, id_05, id_06, id_07, id_08, id_09, id_10, id_11, id_13, id_14, id_17, id_18, id_19, id_20, id_21, id_22, id_24, id_25, id_26, id_32\n",
    "\n",
    "Columnas binarias: id_11_38_present, id_02_DeviceType_present, id_31_present, id_17_20_present, id_05_06_present, id_13_present, id_16_present, id_03_04_present, id_09_10_present, id_14_present, id_18_present, id_07_27_present, id_24_present"
   ]
  },
  {
   "cell_type": "markdown",
   "id": "b92b9063-a31a-439c-9486-e822cb81a296",
   "metadata": {},
   "source": [
    "#### ['id_23']"
   ]
  },
  {
   "cell_type": "code",
   "execution_count": 435,
   "id": "243feb46-c253-4633-bc04-6f7d2a38ce75",
   "metadata": {},
   "outputs": [],
   "source": [
    "df_id['id_23'] = df_id['id_23'].map({\n",
    "    'IP_PROXY:TRANSPARENT': 0,\n",
    "    'IP_PROXY:ANONYMOUS': 1,\n",
    "    'IP_PROXY:HIDDEN': 2\n",
    "}).astype('float32')"
   ]
  },
  {
   "cell_type": "markdown",
   "id": "eddb2630-d8b4-4946-9d77-8e38b3d0a8d2",
   "metadata": {},
   "source": [
    "#### ['id_27']"
   ]
  },
  {
   "cell_type": "code",
   "execution_count": 438,
   "id": "d3bc0481-6606-4655-ba15-42f3ec774520",
   "metadata": {},
   "outputs": [],
   "source": [
    "df_id['id_27'] = df_id['id_27'].map({\n",
    "    'NotFound': 0,\n",
    "    'Found': 1\n",
    "}).astype('float32')"
   ]
  },
  {
   "cell_type": "markdown",
   "id": "a4b5cb0c-3ce0-4cfa-8b78-f3a69e9614e8",
   "metadata": {},
   "source": [
    "#### ['id_24']"
   ]
  },
  {
   "cell_type": "code",
   "execution_count": 441,
   "id": "7f5ae3ac-6346-477f-baf0-f171a81c2a21",
   "metadata": {},
   "outputs": [],
   "source": [
    "df_id['id_24_present'] = df_id['id_24'].notnull().astype('int')"
   ]
  },
  {
   "cell_type": "code",
   "execution_count": 443,
   "id": "8572de10-a596-4fb7-a750-69f9608c7039",
   "metadata": {},
   "outputs": [
    {
     "name": "stdout",
     "output_type": "stream",
     "text": [
      "   id_24  id_24_present\n",
      "0    NaN              0\n",
      "1    NaN              0\n",
      "2    NaN              0\n",
      "3    NaN              0\n",
      "4    NaN              0\n",
      "5    NaN              0\n",
      "6    NaN              0\n",
      "7    NaN              0\n",
      "8    NaN              0\n",
      "9    NaN              0\n"
     ]
    }
   ],
   "source": [
    "print(df_id[['id_24', 'id_24_present']].head(10))"
   ]
  },
  {
   "cell_type": "code",
   "execution_count": 445,
   "id": "29cbfd54-a355-440b-9d68-f82dc1fe823a",
   "metadata": {},
   "outputs": [
    {
     "name": "stdout",
     "output_type": "stream",
     "text": [
      "Rows with NaN in id_24: 139486\n",
      "Rows with id_24_present = 0: 139486\n"
     ]
    }
   ],
   "source": [
    "print(f\"Rows with NaN in id_24: {df_id['id_24'].isna().sum()}\")\n",
    "print(f\"Rows with id_24_present = 0: {df_id['id_24_present'].eq(0).sum()}\")"
   ]
  },
  {
   "cell_type": "markdown",
   "id": "77376612-17dd-451e-b602-37789e0abe43",
   "metadata": {
    "jp-MarkdownHeadingCollapsed": true
   },
   "source": [
    "# Output after cleaning ID"
   ]
  },
  {
   "cell_type": "code",
   "execution_count": 123,
   "id": "b98e1436-fec4-4905-b3ef-8e7ec596d620",
   "metadata": {},
   "outputs": [
    {
     "name": "stdin",
     "output_type": "stream",
     "text": [
      "Do you want to include statistical data and unique values? (yes/no):  yes\n",
      "Do you want to save the summary to an Excel file? (yes/no):  yes\n",
      "Enter the file name (without extension):  df_id_after_cleaning\n"
     ]
    },
    {
     "name": "stdout",
     "output_type": "stream",
     "text": [
      "File saved as df_id_after_cleaning.xlsx\n",
      "\n",
      "Summary DataFrame:\n",
      "                 Column Name Data Type  Percentage Null  Unique Values  \\\n",
      "0              TransactionID     int64         0.000000         144233   \n",
      "1                      id_01   float32         0.000000             77   \n",
      "2                      id_02   float32         2.330257         115655   \n",
      "3                      id_03   float32        54.016071             24   \n",
      "4                      id_04   float32        54.016071             15   \n",
      "5                      id_05   float32         5.108401             93   \n",
      "6                      id_06   float32         5.108401            101   \n",
      "7                      id_07   float32        96.425922             84   \n",
      "8                      id_08   float32        96.425922             94   \n",
      "9                      id_09   float32        48.052110             46   \n",
      "10                     id_10   float32        48.052110             62   \n",
      "11                     id_11   float32         2.256765            365   \n",
      "12                     id_12   float32         0.000000              2   \n",
      "13                     id_13   float32        11.726165             54   \n",
      "14                     id_14   float32        44.503685             25   \n",
      "15                     id_15   float32         2.251912              3   \n",
      "16                     id_16   float32        10.325654              2   \n",
      "17                     id_17   float32         3.372321            104   \n",
      "18                     id_18   float32        68.722137             18   \n",
      "19                     id_19   float32         3.407681            522   \n",
      "20                     id_20   float32         3.447200            394   \n",
      "21                     id_21   float32        96.423149            490   \n",
      "22                     id_22   float32        96.416215             25   \n",
      "23                     id_23   float32        96.416215              3   \n",
      "24                     id_24   float32        96.708798             12   \n",
      "25                     id_25   float32        96.441868            341   \n",
      "26                     id_26   float32        96.420375             95   \n",
      "27                     id_27   float32        96.416215              2   \n",
      "28                     id_28   float32         2.256765              2   \n",
      "29                     id_29   float32         2.256765              2   \n",
      "30                     id_30   float32        46.222432              5   \n",
      "31                     id_31   float32         2.739318              5   \n",
      "32                     id_32   float32        46.207872              4   \n",
      "33                     id_33   float32        49.187079              3   \n",
      "34                     id_34   float32        46.056034              4   \n",
      "35                     id_35   float32         2.251912              2   \n",
      "36                     id_36   float32         2.251912              2   \n",
      "37                     id_37   float32         2.251912              2   \n",
      "38                     id_38   float32         2.251912              2   \n",
      "39                DeviceType   float32         2.373243              2   \n",
      "40                DeviceInfo   float32        17.726179              5   \n",
      "41          id_35_38_present     int32         0.000000              2   \n",
      "42          id_11_38_present     int32         0.000000              2   \n",
      "43          id_07_27_present     int32         0.000000              2   \n",
      "44          id_30_34_present     int32         0.000000              2   \n",
      "45  id_02_DeviceType_present     int32         0.000000              2   \n",
      "46             id_31_present     int32         0.000000              2   \n",
      "47          id_17_20_present     int32         0.000000              2   \n",
      "48          id_05_06_present     int32         0.000000              2   \n",
      "49             id_13_present     int32         0.000000              2   \n",
      "50             id_16_present     int32         0.000000              2   \n",
      "51          id_03_04_present     int32         0.000000              2   \n",
      "52          id_09_10_present     int32         0.000000              2   \n",
      "53             id_14_present     int32         0.000000              2   \n",
      "54             id_18_present     int32         0.000000              2   \n",
      "55             id_24_present     int32         0.000000              2   \n",
      "\n",
      "          Min        Max          Mean     Median            Std  \\\n",
      "0   2987004.0  3577534.0  3.236329e+06  3198818.0  178849.571186   \n",
      "1      -100.0        0.0 -1.017050e+01       -5.0      14.342789   \n",
      "2         1.0   999595.0  1.747166e+05   125800.5  159650.000000   \n",
      "3       -13.0       10.0  6.018937e-02        0.0       0.598342   \n",
      "4       -28.0        0.0 -5.893794e-02        0.0       0.701242   \n",
      "5       -72.0       52.0  1.615585e+00        0.0       5.247610   \n",
      "6      -100.0        0.0 -6.698710e+00        0.0      16.482006   \n",
      "7       -46.0       61.0  1.328535e+01       14.0      11.384203   \n",
      "8      -100.0        0.0 -3.860039e+01      -34.0      26.084953   \n",
      "9       -36.0       25.0  9.102314e-02        0.0       0.983644   \n",
      "10     -100.0        0.0 -3.011238e-01        0.0       2.789352   \n",
      "11       90.0      100.0  9.974533e+01      100.0       1.126752   \n",
      "12        0.0        1.0  1.470399e-01        0.0       0.354060   \n",
      "13       10.0       64.0  4.805307e+01       52.0      11.776752   \n",
      "14     -660.0      720.0 -3.445071e+02     -300.0      93.716148   \n",
      "15        0.0        2.0  6.455864e-01        1.0       0.627675   \n",
      "16        0.0        1.0  5.127880e-01        1.0       0.500211   \n",
      "17      100.0      229.0  1.894514e+02      166.0      30.377136   \n",
      "18       10.0       29.0  1.423734e+01       15.0       1.561116   \n",
      "19      100.0      671.0  3.531281e+02      341.0     141.112030   \n",
      "20      100.0      661.0  4.038826e+02      472.0     152.158493   \n",
      "21      100.0      854.0  3.682698e+02      252.0     198.849014   \n",
      "22       10.0       44.0  1.600271e+01       14.0       6.897755   \n",
      "23        0.0        2.0  4.428323e-01        0.0       0.694580   \n",
      "24       11.0       26.0  1.280093e+01       11.0       2.372468   \n",
      "25      100.0      548.0  3.296089e+02      321.0      97.462585   \n",
      "26      100.0      216.0  1.490703e+02      149.0      32.101933   \n",
      "27        0.0        1.0  9.972916e-01        1.0       0.051978   \n",
      "28        0.0        1.0  5.407369e-01        1.0       0.498445   \n",
      "29        0.0        1.0  5.314730e-01        1.0       0.498907   \n",
      "30        0.0        4.0  1.787456e+00        2.0       0.877588   \n",
      "31        0.0        4.0  9.179225e-01        0.0       1.335538   \n",
      "32        0.0       32.0  2.650860e+01       24.0       3.737366   \n",
      "33        0.0        2.0  1.194654e+00        1.0       0.532216   \n",
      "34       -1.0        2.0  1.765889e+00        2.0       0.436059   \n",
      "35        0.0        1.0  5.519311e-01        1.0       0.497402   \n",
      "36        0.0        1.0  4.907614e-02        0.0       0.216095   \n",
      "37        0.0        1.0  7.834309e-01        1.0       0.411800   \n",
      "38        0.0        1.0  4.756747e-01        0.0       0.499649   \n",
      "39        0.0        1.0  6.048221e-01        1.0       0.488874   \n",
      "40        0.0        4.0  2.497994e+00        2.0       1.150605   \n",
      "41        0.0        1.0  9.774809e-01        1.0       0.148365   \n",
      "42        0.0        1.0  9.774809e-01        1.0       0.148365   \n",
      "43        0.0        1.0  3.583785e-02        0.0       0.185886   \n",
      "44        0.0        1.0  5.448614e-01        1.0       0.497985   \n",
      "45        0.0        1.0  9.766974e-01        1.0       0.150863   \n",
      "46        0.0        1.0  9.726068e-01        1.0       0.163227   \n",
      "47        0.0        1.0  9.662768e-01        1.0       0.180516   \n",
      "48        0.0        1.0  9.489160e-01        1.0       0.220170   \n",
      "49        0.0        1.0  8.827383e-01        1.0       0.321733   \n",
      "50        0.0        1.0  8.967435e-01        1.0       0.304295   \n",
      "51        0.0        1.0  4.598393e-01        0.0       0.498386   \n",
      "52        0.0        1.0  5.194789e-01        1.0       0.499622   \n",
      "53        0.0        1.0  5.549631e-01        1.0       0.496972   \n",
      "54        0.0        1.0  3.127786e-01        0.0       0.463627   \n",
      "55        0.0        1.0  3.291202e-02        0.0       0.178407   \n",
      "\n",
      "                                       Unique Content  \n",
      "0                                                      \n",
      "1                                                      \n",
      "2                                                      \n",
      "3   [nan, 0.0, 3.0, 2.0, 5.0, 1.0, 6.0, 9.0, 4.0, ...  \n",
      "4   [nan, 0.0, -11.0, -5.0, -8.0, -1.0, -6.0, -9.0...  \n",
      "5                                                      \n",
      "6                                                      \n",
      "7                                                      \n",
      "8                                                      \n",
      "9   [nan, 0.0, 3.0, 2.0, 1.0, 5.0, -8.0, 7.0, 4.0,...  \n",
      "10                                                     \n",
      "11                                                     \n",
      "12                                         [0.0, 1.0]  \n",
      "13                                                     \n",
      "14  [-480.0, -300.0, nan, -360.0, -420.0, -540.0, ...  \n",
      "15                               [0.0, 1.0, nan, 2.0]  \n",
      "16                                    [0.0, 1.0, nan]  \n",
      "17                                                     \n",
      "18  [nan, 15.0, 18.0, 13.0, 12.0, 20.0, 21.0, 14.0...  \n",
      "19                                                     \n",
      "20                                                     \n",
      "21                                                     \n",
      "22  [nan, 14.0, 41.0, 21.0, 33.0, 35.0, 19.0, 20.0...  \n",
      "23                               [nan, 0.0, 1.0, 2.0]  \n",
      "24  [nan, 11.0, 15.0, 16.0, 12.0, 21.0, 18.0, 25.0...  \n",
      "25                                                     \n",
      "26                                                     \n",
      "27                                    [nan, 1.0, 0.0]  \n",
      "28                                    [0.0, 1.0, nan]  \n",
      "29                                    [0.0, 1.0, nan]  \n",
      "30                     [0.0, 1.0, nan, 3.0, 2.0, 4.0]  \n",
      "31                     [3.0, 1.0, 0.0, nan, 4.0, 2.0]  \n",
      "32                       [32.0, nan, 24.0, 16.0, 0.0]  \n",
      "33                               [1.0, nan, 0.0, 2.0]  \n",
      "34                         [2.0, 1.0, nan, 0.0, -1.0]  \n",
      "35                                    [1.0, 0.0, nan]  \n",
      "36                                    [0.0, nan, 1.0]  \n",
      "37                                    [1.0, 0.0, nan]  \n",
      "38                                    [1.0, nan, 0.0]  \n",
      "39                                    [0.0, 1.0, nan]  \n",
      "40                     [0.0, 1.0, 2.0, nan, 3.0, 4.0]  \n",
      "41                                             [1, 0]  \n",
      "42                                             [1, 0]  \n",
      "43                                             [0, 1]  \n",
      "44                                             [1, 0]  \n",
      "45                                             [1, 0]  \n",
      "46                                             [1, 0]  \n",
      "47                                             [1, 0]  \n",
      "48                                             [0, 1]  \n",
      "49                                             [0, 1]  \n",
      "50                                             [1, 0]  \n",
      "51                                             [0, 1]  \n",
      "52                                             [0, 1]  \n",
      "53                                             [1, 0]  \n",
      "54                                             [0, 1]  \n",
      "55                                             [0, 1]  \n"
     ]
    }
   ],
   "source": [
    "create_summary_excel(df_id)"
   ]
  },
  {
   "cell_type": "code",
   "execution_count": 125,
   "id": "c3bf9190-e91a-4869-a6e5-f3713ca6a06b",
   "metadata": {},
   "outputs": [
    {
     "name": "stdin",
     "output_type": "stream",
     "text": [
      "Do you want to include statistical data and unique values? (yes/no):  yes\n",
      "Do you want to save the summary to a CSV file? (yes/no):  yes\n",
      "Enter the file name (without extension):  df_id_after_cleaning\n"
     ]
    },
    {
     "name": "stdout",
     "output_type": "stream",
     "text": [
      "File saved as df_id_after_cleaning.csv\n",
      "\n",
      "Summary DataFrame:\n",
      "                 Column Name Data Type  Percentage Null  Unique Values  \\\n",
      "0              TransactionID     int64         0.000000         144233   \n",
      "1                      id_01   float32         0.000000             77   \n",
      "2                      id_02   float32         2.330257         115655   \n",
      "3                      id_03   float32        54.016071             24   \n",
      "4                      id_04   float32        54.016071             15   \n",
      "5                      id_05   float32         5.108401             93   \n",
      "6                      id_06   float32         5.108401            101   \n",
      "7                      id_07   float32        96.425922             84   \n",
      "8                      id_08   float32        96.425922             94   \n",
      "9                      id_09   float32        48.052110             46   \n",
      "10                     id_10   float32        48.052110             62   \n",
      "11                     id_11   float32         2.256765            365   \n",
      "12                     id_12   float32         0.000000              2   \n",
      "13                     id_13   float32        11.726165             54   \n",
      "14                     id_14   float32        44.503685             25   \n",
      "15                     id_15   float32         2.251912              3   \n",
      "16                     id_16   float32        10.325654              2   \n",
      "17                     id_17   float32         3.372321            104   \n",
      "18                     id_18   float32        68.722137             18   \n",
      "19                     id_19   float32         3.407681            522   \n",
      "20                     id_20   float32         3.447200            394   \n",
      "21                     id_21   float32        96.423149            490   \n",
      "22                     id_22   float32        96.416215             25   \n",
      "23                     id_23   float32        96.416215              3   \n",
      "24                     id_24   float32        96.708798             12   \n",
      "25                     id_25   float32        96.441868            341   \n",
      "26                     id_26   float32        96.420375             95   \n",
      "27                     id_27   float32        96.416215              2   \n",
      "28                     id_28   float32         2.256765              2   \n",
      "29                     id_29   float32         2.256765              2   \n",
      "30                     id_30   float32        46.222432              5   \n",
      "31                     id_31   float32         2.739318              5   \n",
      "32                     id_32   float32        46.207872              4   \n",
      "33                     id_33   float32        49.187079              3   \n",
      "34                     id_34   float32        46.056034              4   \n",
      "35                     id_35   float32         2.251912              2   \n",
      "36                     id_36   float32         2.251912              2   \n",
      "37                     id_37   float32         2.251912              2   \n",
      "38                     id_38   float32         2.251912              2   \n",
      "39                DeviceType   float32         2.373243              2   \n",
      "40                DeviceInfo   float32        17.726179              5   \n",
      "41          id_35_38_present     int32         0.000000              2   \n",
      "42          id_11_38_present     int32         0.000000              2   \n",
      "43          id_07_27_present     int32         0.000000              2   \n",
      "44          id_30_34_present     int32         0.000000              2   \n",
      "45  id_02_DeviceType_present     int32         0.000000              2   \n",
      "46             id_31_present     int32         0.000000              2   \n",
      "47          id_17_20_present     int32         0.000000              2   \n",
      "48          id_05_06_present     int32         0.000000              2   \n",
      "49             id_13_present     int32         0.000000              2   \n",
      "50             id_16_present     int32         0.000000              2   \n",
      "51          id_03_04_present     int32         0.000000              2   \n",
      "52          id_09_10_present     int32         0.000000              2   \n",
      "53             id_14_present     int32         0.000000              2   \n",
      "54             id_18_present     int32         0.000000              2   \n",
      "55             id_24_present     int32         0.000000              2   \n",
      "\n",
      "          Min        Max          Mean     Median            Std  \\\n",
      "0   2987004.0  3577534.0  3.236329e+06  3198818.0  178849.571186   \n",
      "1      -100.0        0.0 -1.017050e+01       -5.0      14.342789   \n",
      "2         1.0   999595.0  1.747166e+05   125800.5  159650.000000   \n",
      "3       -13.0       10.0  6.018937e-02        0.0       0.598342   \n",
      "4       -28.0        0.0 -5.893794e-02        0.0       0.701242   \n",
      "5       -72.0       52.0  1.615585e+00        0.0       5.247610   \n",
      "6      -100.0        0.0 -6.698710e+00        0.0      16.482006   \n",
      "7       -46.0       61.0  1.328535e+01       14.0      11.384203   \n",
      "8      -100.0        0.0 -3.860039e+01      -34.0      26.084953   \n",
      "9       -36.0       25.0  9.102314e-02        0.0       0.983644   \n",
      "10     -100.0        0.0 -3.011238e-01        0.0       2.789352   \n",
      "11       90.0      100.0  9.974533e+01      100.0       1.126752   \n",
      "12        0.0        1.0  1.470399e-01        0.0       0.354060   \n",
      "13       10.0       64.0  4.805307e+01       52.0      11.776752   \n",
      "14     -660.0      720.0 -3.445071e+02     -300.0      93.716148   \n",
      "15        0.0        2.0  6.455864e-01        1.0       0.627675   \n",
      "16        0.0        1.0  5.127880e-01        1.0       0.500211   \n",
      "17      100.0      229.0  1.894514e+02      166.0      30.377136   \n",
      "18       10.0       29.0  1.423734e+01       15.0       1.561116   \n",
      "19      100.0      671.0  3.531281e+02      341.0     141.112030   \n",
      "20      100.0      661.0  4.038826e+02      472.0     152.158493   \n",
      "21      100.0      854.0  3.682698e+02      252.0     198.849014   \n",
      "22       10.0       44.0  1.600271e+01       14.0       6.897755   \n",
      "23        0.0        2.0  4.428323e-01        0.0       0.694580   \n",
      "24       11.0       26.0  1.280093e+01       11.0       2.372468   \n",
      "25      100.0      548.0  3.296089e+02      321.0      97.462585   \n",
      "26      100.0      216.0  1.490703e+02      149.0      32.101933   \n",
      "27        0.0        1.0  9.972916e-01        1.0       0.051978   \n",
      "28        0.0        1.0  5.407369e-01        1.0       0.498445   \n",
      "29        0.0        1.0  5.314730e-01        1.0       0.498907   \n",
      "30        0.0        4.0  1.787456e+00        2.0       0.877588   \n",
      "31        0.0        4.0  9.179225e-01        0.0       1.335538   \n",
      "32        0.0       32.0  2.650860e+01       24.0       3.737366   \n",
      "33        0.0        2.0  1.194654e+00        1.0       0.532216   \n",
      "34       -1.0        2.0  1.765889e+00        2.0       0.436059   \n",
      "35        0.0        1.0  5.519311e-01        1.0       0.497402   \n",
      "36        0.0        1.0  4.907614e-02        0.0       0.216095   \n",
      "37        0.0        1.0  7.834309e-01        1.0       0.411800   \n",
      "38        0.0        1.0  4.756747e-01        0.0       0.499649   \n",
      "39        0.0        1.0  6.048221e-01        1.0       0.488874   \n",
      "40        0.0        4.0  2.497994e+00        2.0       1.150605   \n",
      "41        0.0        1.0  9.774809e-01        1.0       0.148365   \n",
      "42        0.0        1.0  9.774809e-01        1.0       0.148365   \n",
      "43        0.0        1.0  3.583785e-02        0.0       0.185886   \n",
      "44        0.0        1.0  5.448614e-01        1.0       0.497985   \n",
      "45        0.0        1.0  9.766974e-01        1.0       0.150863   \n",
      "46        0.0        1.0  9.726068e-01        1.0       0.163227   \n",
      "47        0.0        1.0  9.662768e-01        1.0       0.180516   \n",
      "48        0.0        1.0  9.489160e-01        1.0       0.220170   \n",
      "49        0.0        1.0  8.827383e-01        1.0       0.321733   \n",
      "50        0.0        1.0  8.967435e-01        1.0       0.304295   \n",
      "51        0.0        1.0  4.598393e-01        0.0       0.498386   \n",
      "52        0.0        1.0  5.194789e-01        1.0       0.499622   \n",
      "53        0.0        1.0  5.549631e-01        1.0       0.496972   \n",
      "54        0.0        1.0  3.127786e-01        0.0       0.463627   \n",
      "55        0.0        1.0  3.291202e-02        0.0       0.178407   \n",
      "\n",
      "                                       Unique Content  \n",
      "0                                                      \n",
      "1                                                      \n",
      "2                                                      \n",
      "3   [nan, 0.0, 3.0, 2.0, 5.0, 1.0, 6.0, 9.0, 4.0, ...  \n",
      "4   [nan, 0.0, -11.0, -5.0, -8.0, -1.0, -6.0, -9.0...  \n",
      "5                                                      \n",
      "6                                                      \n",
      "7                                                      \n",
      "8                                                      \n",
      "9   [nan, 0.0, 3.0, 2.0, 1.0, 5.0, -8.0, 7.0, 4.0,...  \n",
      "10                                                     \n",
      "11                                                     \n",
      "12                                         [0.0, 1.0]  \n",
      "13                                                     \n",
      "14  [-480.0, -300.0, nan, -360.0, -420.0, -540.0, ...  \n",
      "15                               [0.0, 1.0, nan, 2.0]  \n",
      "16                                    [0.0, 1.0, nan]  \n",
      "17                                                     \n",
      "18  [nan, 15.0, 18.0, 13.0, 12.0, 20.0, 21.0, 14.0...  \n",
      "19                                                     \n",
      "20                                                     \n",
      "21                                                     \n",
      "22  [nan, 14.0, 41.0, 21.0, 33.0, 35.0, 19.0, 20.0...  \n",
      "23                               [nan, 0.0, 1.0, 2.0]  \n",
      "24  [nan, 11.0, 15.0, 16.0, 12.0, 21.0, 18.0, 25.0...  \n",
      "25                                                     \n",
      "26                                                     \n",
      "27                                    [nan, 1.0, 0.0]  \n",
      "28                                    [0.0, 1.0, nan]  \n",
      "29                                    [0.0, 1.0, nan]  \n",
      "30                     [0.0, 1.0, nan, 3.0, 2.0, 4.0]  \n",
      "31                     [3.0, 1.0, 0.0, nan, 4.0, 2.0]  \n",
      "32                       [32.0, nan, 24.0, 16.0, 0.0]  \n",
      "33                               [1.0, nan, 0.0, 2.0]  \n",
      "34                         [2.0, 1.0, nan, 0.0, -1.0]  \n",
      "35                                    [1.0, 0.0, nan]  \n",
      "36                                    [0.0, nan, 1.0]  \n",
      "37                                    [1.0, 0.0, nan]  \n",
      "38                                    [1.0, nan, 0.0]  \n",
      "39                                    [0.0, 1.0, nan]  \n",
      "40                     [0.0, 1.0, 2.0, nan, 3.0, 4.0]  \n",
      "41                                             [1, 0]  \n",
      "42                                             [1, 0]  \n",
      "43                                             [0, 1]  \n",
      "44                                             [1, 0]  \n",
      "45                                             [1, 0]  \n",
      "46                                             [1, 0]  \n",
      "47                                             [1, 0]  \n",
      "48                                             [0, 1]  \n",
      "49                                             [0, 1]  \n",
      "50                                             [1, 0]  \n",
      "51                                             [0, 1]  \n",
      "52                                             [0, 1]  \n",
      "53                                             [1, 0]  \n",
      "54                                             [0, 1]  \n",
      "55                                             [0, 1]  \n"
     ]
    }
   ],
   "source": [
    "create_summary_csv(df_id)"
   ]
  },
  {
   "cell_type": "markdown",
   "id": "ccdc6afd-0a35-47e4-abd6-49e0a2f31f7e",
   "metadata": {},
   "source": [
    "# Test Pipeline"
   ]
  },
  {
   "cell_type": "code",
   "execution_count": 7,
   "id": "f477820d-ea65-4069-a903-54bc90529820",
   "metadata": {},
   "outputs": [],
   "source": [
    "import pandas as pd\n",
    "import numpy as np\n",
    "import joblib\n",
    "\n",
    "class IdentityCleaner:\n",
    "    def __init__(self, category_mappings=None, top_categories=None):\n",
    "        self.category_mappings = category_mappings if category_mappings is not None else {}\n",
    "        self.top_categories = top_categories if top_categories is not None else {}\n",
    "\n",
    "    def group_resolution(self, res):\n",
    "        if pd.isna(res):\n",
    "            return float('nan')\n",
    "        try:\n",
    "            width, height = map(int, res.split('x'))\n",
    "            area = width * height\n",
    "            if area <= 1_000_000:\n",
    "                return 'small'\n",
    "            elif area <= 2_500_000:\n",
    "                return 'medium'\n",
    "            else:\n",
    "                return 'large'\n",
    "        except:\n",
    "            return 'other'\n",
    "\n",
    "    def group_device_info(self, device):\n",
    "        if pd.isna(device):\n",
    "            return 'nan'\n",
    "        device = device.lower()\n",
    "        if 'samsung' in device:\n",
    "            return 'Samsung'\n",
    "        elif 'ios' in device:\n",
    "            return 'iOS'\n",
    "        elif 'windows' in device:\n",
    "            return 'Windows'\n",
    "        elif 'mac' in device:\n",
    "            return 'Mac'\n",
    "        else:\n",
    "            return 'Other'\n",
    "\n",
    "    def fit(self, df):\n",
    "        if not isinstance(df, pd.DataFrame):\n",
    "            raise TypeError(f\"Expected a pandas DataFrame, but got {type(df)}\")\n",
    "\n",
    "        df = df.copy()\n",
    "        df.columns = df.columns.str.replace('-', '_')\n",
    "\n",
    "        top_categories_limits = {\n",
    "            'id_30': 5,\n",
    "            'id_31': 5,\n",
    "            'id_33': 3,  # No se usará directamente, pero lo mantenemos por consistencia\n",
    "            'DeviceInfo': 5  # No se usará directamente, pero lo mantenemos por consistencia\n",
    "        }\n",
    "\n",
    "        label_cols = ['id_30', 'id_31', 'id_33', 'DeviceInfo']\n",
    "        for col in label_cols:\n",
    "            if col not in df.columns:\n",
    "                raise ValueError(f\"Column {col} not found in DataFrame\")\n",
    "            \n",
    "            if col in ['id_33', 'DeviceInfo']:\n",
    "                # Para id_33 y DeviceInfo, no necesitamos top_categories porque usaremos funciones de agrupamiento\n",
    "                continue\n",
    "                \n",
    "            top_n = top_categories_limits[col]\n",
    "            top_cats = df[col].value_counts(dropna=True).head(top_n).index.tolist()\n",
    "            self.top_categories[col] = top_cats\n",
    "\n",
    "            # Usar los mapeos proporcionados\n",
    "            if col == 'id_30':\n",
    "                mapping = {\n",
    "                    'Windows 10': 2.0,\n",
    "                    'Windows 7': 2.0,\n",
    "                    'iOS 11.2.1': 1.0,\n",
    "                    'iOS 11.1.2': 1.0,\n",
    "                    'Android 7.0': 0.0,\n",
    "                    'other': 3.0\n",
    "                }\n",
    "            elif col == 'id_31':\n",
    "                mapping = {\n",
    "                    'chrome 63.0': 0.0,\n",
    "                    'mobile safari 11.0': 1.0,\n",
    "                    'mobile safari generic': 1.0,\n",
    "                    'ie 11.0 for desktop': 4.0,\n",
    "                    'safari generic': 1.0,\n",
    "                    'other': 3.0\n",
    "                }\n",
    "            self.category_mappings[col] = mapping\n",
    "\n",
    "        return self\n",
    "\n",
    "    def transform(self, df):\n",
    "        if not isinstance(df, pd.DataFrame):\n",
    "            raise TypeError(f\"Expected a pandas DataFrame, but got {type(df)}\")\n",
    "\n",
    "        df = df.copy()\n",
    "        df.columns = df.columns.str.replace('-', '_')\n",
    "\n",
    "        float64_cols = df.select_dtypes(include=['float64']).columns\n",
    "        df[float64_cols] = df[float64_cols].astype('float32')\n",
    "\n",
    "        # Debug: Imprimir el % Null de cada columna en id_11 a id_38 y id_30 a id_34\n",
    "        print(\"Porcentaje de NaN por columna en id_11 a id_38:\")\n",
    "        for i in range(11, 39):\n",
    "            col = f'id_{i}'\n",
    "            if col in df.columns:\n",
    "                null_percentage = df[col].isna().mean() * 100\n",
    "                print(f\"{col}: {null_percentage:.5f}%\")\n",
    "\n",
    "        print(\"\\nPorcentaje de NaN por columna en id_30 a id_34:\")\n",
    "        for i in range(30, 35):\n",
    "            col = f'id_{i}'\n",
    "            if col in df.columns:\n",
    "                null_percentage = df[col].isna().mean() * 100\n",
    "                print(f\"{col}: {null_percentage:.5f}%\")\n",
    "\n",
    "        # Debug: Contar filas con todas NaN\n",
    "        if all(f'id_{i}' in df.columns for i in [11, 15, 28, 29, 35, 36, 37, 38]):\n",
    "            # Usamos las columnas exactas: id_11, id_15, id_28, id_29, id_35, id_36, id_37, id_38\n",
    "            include_cols = [11, 15, 28, 29, 35, 36, 37, 38]\n",
    "            id_11_38_cols = df[[f'id_{i}' for i in include_cols]]\n",
    "            all_nan_11_38 = id_11_38_cols.isna().all(axis=1).sum()\n",
    "            print(f\"\\nRows with all NaN in id_11 to id_38 (using id_11, id_15, id_28, id_29, id_35, id_36, id_37, id_38): {all_nan_11_38}\")\n",
    "\n",
    "        if all(f'id_{i}' in df.columns for i in range(30, 35)):\n",
    "            # Excluimos id_31\n",
    "            id_30_34_cols = df[[f'id_{i}' for i in range(30, 35) if i != 31]]\n",
    "            all_nan_30_34 = id_30_34_cols.isna().all(axis=1).sum()\n",
    "            print(f\"Rows with all NaN in id_30 to id_34 (excluding id_31): {all_nan_30_34}\")\n",
    "\n",
    "        # 1. Calcular columnas binarias ANTES de transformar las columnas categóricas\n",
    "        if all(col in df.columns for col in ['id_35', 'id_36', 'id_37', 'id_38']):\n",
    "            df['id_35_38_present'] = df[['id_35', 'id_36', 'id_37', 'id_38']].notnull().any(axis=1).astype('int32')\n",
    "\n",
    "        if all(f'id_{i}' in df.columns for i in [11, 15, 28, 29, 35, 36, 37, 38]):\n",
    "            # Usamos las columnas exactas: id_11, id_15, id_28, id_29, id_35, id_36, id_37, id_38\n",
    "            include_cols = [11, 15, 28, 29, 35, 36, 37, 38]\n",
    "            df['id_11_38_present'] = df[[f'id_{i}' for i in include_cols]].notnull().any(axis=1).astype('int32')\n",
    "\n",
    "        if all(col in df.columns for col in ['id_07', 'id_27']):\n",
    "            df['id_07_27_present'] = df[['id_07', 'id_27']].notnull().any(axis=1).astype('int32')\n",
    "\n",
    "        if all(f'id_{i}' in df.columns for i in range(30, 35)):\n",
    "            # Excluimos id_31\n",
    "            df['id_30_34_present'] = df[[f'id_{i}' for i in range(30, 35) if i != 31]].notnull().any(axis=1).astype('int32')\n",
    "\n",
    "        if all(col in df.columns for col in ['id_02', 'DeviceType']):\n",
    "            df['id_02_DeviceType_present'] = df[['id_02', 'DeviceType']].notnull().any(axis=1).astype('int32')\n",
    "\n",
    "        if 'id_31' in df.columns:\n",
    "            df['id_31_present'] = df['id_31'].notnull().astype('int32')\n",
    "\n",
    "        if all(f'id_{i}' in df.columns for i in range(17, 21)):\n",
    "            df['id_17_20_present'] = df[[f'id_{i}' for i in range(17, 21)]].notnull().any(axis=1).astype('int32')\n",
    "\n",
    "        if all(col in df.columns for col in ['id_05', 'id_06']):\n",
    "            df['id_05_06_present'] = df[['id_05', 'id_06']].notnull().any(axis=1).astype('int32')\n",
    "\n",
    "        if 'id_13' in df.columns:\n",
    "            df['id_13_present'] = df['id_13'].notnull().astype('int32')\n",
    "\n",
    "        if 'id_16' in df.columns:\n",
    "            df['id_16_present'] = df['id_16'].notnull().astype('int32')\n",
    "\n",
    "        if all(col in df.columns for col in ['id_03', 'id_04']):\n",
    "            df['id_03_04_present'] = df[['id_03', 'id_04']].notnull().any(axis=1).astype('int32')\n",
    "\n",
    "        if all(col in df.columns for col in ['id_09', 'id_10']):\n",
    "            df['id_09_10_present'] = df[['id_09', 'id_10']].notnull().any(axis=1).astype('int32')\n",
    "\n",
    "        if 'id_14' in df.columns:\n",
    "            df['id_14_present'] = df['id_14'].notnull().astype('int32')\n",
    "\n",
    "        if 'id_18' in df.columns:\n",
    "            df['id_18_present'] = df['id_18'].notnull().astype('int32')\n",
    "\n",
    "        if 'id_24' in df.columns:\n",
    "            df['id_24_present'] = df['id_24'].notnull().astype('int32')\n",
    "\n",
    "        # 2. Transformar otras columnas categóricas\n",
    "        if 'id_12' in df.columns:\n",
    "            df['id_12'] = df['id_12'].map({'NotFound': 0, 'Found': 1}).astype('float32')\n",
    "\n",
    "        if 'id_15' in df.columns:\n",
    "            df['id_15'] = df['id_15'].map({'New': 0, 'Found': 1, 'Unknown': 2}).astype('float32')\n",
    "\n",
    "        if 'id_16' in df.columns:\n",
    "            df['id_16'] = df['id_16'].map({'NotFound': 0, 'Found': 1}).astype('float32')\n",
    "\n",
    "        if 'id_23' in df.columns:\n",
    "            df['id_23'] = df['id_23'].map({\n",
    "                'IP_PROXY:TRANSPARENT': 0,\n",
    "                'IP_PROXY:ANONYMOUS': 1,\n",
    "                'IP_PROXY:HIDDEN': 2\n",
    "            }).astype('float32')\n",
    "\n",
    "        if 'id_27' in df.columns:\n",
    "            df['id_27'] = df['id_27'].map({'NotFound': 0, 'Found': 1}).astype('float32')\n",
    "\n",
    "        if 'id_28' in df.columns:\n",
    "            df['id_28'] = df['id_28'].map({'New': 0, 'Found': 1}).astype('float32')\n",
    "\n",
    "        if 'id_29' in df.columns:\n",
    "            df['id_29'] = df['id_29'].map({'NotFound': 0, 'Found': 1}).astype('float32')\n",
    "\n",
    "        if 'id_34' in df.columns:\n",
    "            df['id_34'] = df['id_34'].map({\n",
    "                'match_status:-1': -1,\n",
    "                'match_status:0': 0,\n",
    "                'match_status:1': 1,\n",
    "                'match_status:2': 2\n",
    "            }).astype('float32')\n",
    "\n",
    "        for col in ['id_35', 'id_36', 'id_37', 'id_38']:\n",
    "            if col in df.columns:\n",
    "                df[col] = df[col].map({'T': 1, 'F': 0}).astype('float32')\n",
    "\n",
    "        if 'DeviceType' in df.columns:\n",
    "            df['DeviceType'] = df['DeviceType'].map({'mobile': 0, 'desktop': 1}).astype('float32')\n",
    "\n",
    "        # 3. Transformar id_30, id_31, id_33, DeviceInfo\n",
    "        label_cols = ['id_30', 'id_31', 'id_33', 'DeviceInfo']\n",
    "        nan_masks = {col: df[col].isna() for col in label_cols if col in df.columns}\n",
    "\n",
    "        for col in label_cols:\n",
    "            if col not in df.columns:\n",
    "                raise ValueError(f\"Column {col} not found in DataFrame\")\n",
    "            \n",
    "            if col == 'id_33':\n",
    "                # Agrupar resoluciones y mapear\n",
    "                df_col = df[col].apply(self.group_resolution)\n",
    "                df[col] = df_col.map({\n",
    "                    'small': 0,\n",
    "                    'medium': 1,\n",
    "                    'large': 2,\n",
    "                    'other': 3,\n",
    "                    float('nan'): float('nan')\n",
    "                }).astype('float32')\n",
    "            elif col == 'DeviceInfo':\n",
    "                # Agrupar dispositivos y mapear\n",
    "                df_col = df[col].apply(self.group_device_info)\n",
    "                df[col] = df_col.map({\n",
    "                    'Samsung': 0,\n",
    "                    'iOS': 1,\n",
    "                    'Windows': 2,\n",
    "                    'Mac': 3,\n",
    "                    'Other': 4,\n",
    "                    'nan': float('nan')\n",
    "                }).astype('float32')\n",
    "            else:\n",
    "                # Mapear categorías a 'other' si no están en las principales\n",
    "                df_col = df[col].where(df[col].isin(self.top_categories[col]), 'other')\n",
    "                # Aplicar el mapeo personalizado\n",
    "                df[col] = df_col.map(self.category_mappings[col]).astype('float32')\n",
    "                # Restaurar NaN\n",
    "                df[col] = df[col].where(~nan_masks[col], np.nan)\n",
    "\n",
    "        # Debug: Imprimir la distribución de valores en DeviceInfo después de la transformación\n",
    "        print(\"\\nDistribución de valores en DeviceInfo después de la transformación:\")\n",
    "        print(df['DeviceInfo'].value_counts(dropna=False))\n",
    "\n",
    "        return df"
   ]
  },
  {
   "cell_type": "code",
   "execution_count": 10,
   "id": "afb40a7e-0f2b-4cb1-95e5-b1e6edf5328d",
   "metadata": {},
   "outputs": [],
   "source": [
    "train_identity = pd.read_csv('train_identity.csv')"
   ]
  },
  {
   "cell_type": "code",
   "execution_count": 12,
   "id": "d2e57968-8f37-440a-824d-f589ac464e5e",
   "metadata": {},
   "outputs": [],
   "source": [
    "cleaner = IdentityCleaner()"
   ]
  },
  {
   "cell_type": "code",
   "execution_count": 14,
   "id": "f5e173e7-72a1-41ba-9250-bfc92c8004ce",
   "metadata": {},
   "outputs": [
    {
     "data": {
      "text/plain": [
       "<__main__.IdentityCleaner at 0x27a0843f110>"
      ]
     },
     "execution_count": 14,
     "metadata": {},
     "output_type": "execute_result"
    }
   ],
   "source": [
    "cleaner.fit(train_identity)"
   ]
  },
  {
   "cell_type": "code",
   "execution_count": 16,
   "id": "d80883a7-e07d-42d8-8a71-8e8a80f6409e",
   "metadata": {},
   "outputs": [
    {
     "name": "stdout",
     "output_type": "stream",
     "text": [
      "Porcentaje de NaN por columna en id_11 a id_38:\n",
      "id_11: 2.25677%\n",
      "id_12: 0.00000%\n",
      "id_13: 11.72617%\n",
      "id_14: 44.50369%\n",
      "id_15: 2.25191%\n",
      "id_16: 10.32565%\n",
      "id_17: 3.37232%\n",
      "id_18: 68.72214%\n",
      "id_19: 3.40768%\n",
      "id_20: 3.44720%\n",
      "id_21: 96.42315%\n",
      "id_22: 96.41622%\n",
      "id_23: 96.41622%\n",
      "id_24: 96.70880%\n",
      "id_25: 96.44187%\n",
      "id_26: 96.42038%\n",
      "id_27: 96.41622%\n",
      "id_28: 2.25677%\n",
      "id_29: 2.25677%\n",
      "id_30: 46.22243%\n",
      "id_31: 2.73932%\n",
      "id_32: 46.20787%\n",
      "id_33: 49.18708%\n",
      "id_34: 46.05603%\n",
      "id_35: 2.25191%\n",
      "id_36: 2.25191%\n",
      "id_37: 2.25191%\n",
      "id_38: 2.25191%\n",
      "\n",
      "Porcentaje de NaN por columna en id_30 a id_34:\n",
      "id_30: 46.22243%\n",
      "id_31: 2.73932%\n",
      "id_32: 46.20787%\n",
      "id_33: 49.18708%\n",
      "id_34: 46.05603%\n",
      "\n",
      "Rows with all NaN in id_11 to id_38 (using id_11, id_15, id_28, id_29, id_35, id_36, id_37, id_38): 3248\n",
      "Rows with all NaN in id_30 to id_34 (excluding id_31): 65646\n",
      "\n",
      "Distribución de valores en DeviceInfo después de la transformación:\n",
      "DeviceInfo\n",
      "2.0    47775\n",
      "4.0    35844\n",
      "NaN    25567\n",
      "1.0    19782\n",
      "3.0    12573\n",
      "0.0     2692\n",
      "Name: count, dtype: int64\n"
     ]
    }
   ],
   "source": [
    "id_train_cleaned_pipeline = cleaner.transform(train_identity)"
   ]
  },
  {
   "cell_type": "code",
   "execution_count": 22,
   "id": "f202fd36-c11e-4259-be1c-fdd54350895b",
   "metadata": {},
   "outputs": [
    {
     "name": "stdout",
     "output_type": "stream",
     "text": [
      "Pipeline entrenado y guardado como 'identity_cleaner_trained.pkl'\n"
     ]
    }
   ],
   "source": [
    "# Guardar el pipeline entrenado en un archivo\n",
    "joblib.dump(cleaner, 'identity_cleaner_trained.pkl')\n",
    "print(\"Pipeline entrenado y guardado como 'identity_cleaner_trained.pkl'\")"
   ]
  },
  {
   "cell_type": "markdown",
   "id": "c305c622-52cf-4787-839d-b1d961d21ac9",
   "metadata": {},
   "source": [
    "# id_train_cleaned_pipeline to CSV"
   ]
  },
  {
   "cell_type": "code",
   "execution_count": 20,
   "id": "4e7b7922-419e-4961-9d0c-fe18657662ae",
   "metadata": {},
   "outputs": [],
   "source": [
    "id_train_cleaned_pipeline.to_csv('train_id_cleaned_pipeline_to_model.csv', index=False)"
   ]
  },
  {
   "cell_type": "markdown",
   "id": "e4b8b754-5e38-42ae-9b4c-a243760f9ce7",
   "metadata": {
    "jp-MarkdownHeadingCollapsed": true
   },
   "source": [
    "# id_train_cleaned_pipeline STATISTICS TO EXCEL"
   ]
  },
  {
   "cell_type": "code",
   "execution_count": 542,
   "id": "cec48807-9cbd-4332-9330-09b32d5dd3ab",
   "metadata": {},
   "outputs": [
    {
     "name": "stdin",
     "output_type": "stream",
     "text": [
      "Do you want to include statistical data and unique values? (yes/no):  yes\n",
      "Do you want to save the summary to an Excel file? (yes/no):  yes\n",
      "Enter the file name (without extension):  id_train_cleaned_pipeline\n"
     ]
    },
    {
     "name": "stdout",
     "output_type": "stream",
     "text": [
      "File saved as id_train_cleaned_pipeline.xlsx\n",
      "\n",
      "Summary DataFrame:\n",
      "                 Column Name Data Type  Percentage Null  Unique Values  \\\n",
      "0              TransactionID     int64         0.000000         144233   \n",
      "1                      id_01   float32         0.000000             77   \n",
      "2                      id_02   float32         2.330257         115655   \n",
      "3                      id_03   float32        54.016071             24   \n",
      "4                      id_04   float32        54.016071             15   \n",
      "5                      id_05   float32         5.108401             93   \n",
      "6                      id_06   float32         5.108401            101   \n",
      "7                      id_07   float32        96.425922             84   \n",
      "8                      id_08   float32        96.425922             94   \n",
      "9                      id_09   float32        48.052110             46   \n",
      "10                     id_10   float32        48.052110             62   \n",
      "11                     id_11   float32         2.256765            365   \n",
      "12                     id_12   float32         0.000000              2   \n",
      "13                     id_13   float32        11.726165             54   \n",
      "14                     id_14   float32        44.503685             25   \n",
      "15                     id_15   float32         2.251912              3   \n",
      "16                     id_16   float32        10.325654              2   \n",
      "17                     id_17   float32         3.372321            104   \n",
      "18                     id_18   float32        68.722137             18   \n",
      "19                     id_19   float32         3.407681            522   \n",
      "20                     id_20   float32         3.447200            394   \n",
      "21                     id_21   float32        96.423149            490   \n",
      "22                     id_22   float32        96.416215             25   \n",
      "23                     id_23   float32        96.416215              3   \n",
      "24                     id_24   float32        96.708798             12   \n",
      "25                     id_25   float32        96.441868            341   \n",
      "26                     id_26   float32        96.420375             95   \n",
      "27                     id_27   float32        96.416215              2   \n",
      "28                     id_28   float32         2.256765              2   \n",
      "29                     id_29   float32         2.256765              2   \n",
      "30                     id_30   float32        46.222432              4   \n",
      "31                     id_31   float32         2.739318              4   \n",
      "32                     id_32   float32        46.207872              4   \n",
      "33                     id_33   float32        49.187079              3   \n",
      "34                     id_34   float32        46.056034              4   \n",
      "35                     id_35   float32         2.251912              2   \n",
      "36                     id_36   float32         2.251912              2   \n",
      "37                     id_37   float32         2.251912              2   \n",
      "38                     id_38   float32         2.251912              2   \n",
      "39                DeviceType   float32         2.373243              2   \n",
      "40                DeviceInfo   float32        17.726179              5   \n",
      "41          id_35_38_present     int32         0.000000              2   \n",
      "42          id_11_38_present     int32         0.000000              2   \n",
      "43          id_07_27_present     int32         0.000000              2   \n",
      "44          id_30_34_present     int32         0.000000              2   \n",
      "45  id_02_DeviceType_present     int32         0.000000              2   \n",
      "46             id_31_present     int32         0.000000              2   \n",
      "47          id_17_20_present     int32         0.000000              2   \n",
      "48          id_05_06_present     int32         0.000000              2   \n",
      "49             id_13_present     int32         0.000000              2   \n",
      "50             id_16_present     int32         0.000000              2   \n",
      "51          id_03_04_present     int32         0.000000              2   \n",
      "52          id_09_10_present     int32         0.000000              2   \n",
      "53             id_14_present     int32         0.000000              2   \n",
      "54             id_18_present     int32         0.000000              2   \n",
      "55             id_24_present     int32         0.000000              2   \n",
      "\n",
      "          Min        Max          Mean     Median            Std  \\\n",
      "0   2987004.0  3577534.0  3.236329e+06  3198818.0  178849.571186   \n",
      "1      -100.0        0.0 -1.017050e+01       -5.0      14.342789   \n",
      "2         1.0   999595.0  1.747166e+05   125800.5  159650.000000   \n",
      "3       -13.0       10.0  6.018937e-02        0.0       0.598342   \n",
      "4       -28.0        0.0 -5.893794e-02        0.0       0.701242   \n",
      "5       -72.0       52.0  1.615585e+00        0.0       5.247610   \n",
      "6      -100.0        0.0 -6.698710e+00        0.0      16.482006   \n",
      "7       -46.0       61.0  1.328535e+01       14.0      11.384203   \n",
      "8      -100.0        0.0 -3.860039e+01      -34.0      26.084953   \n",
      "9       -36.0       25.0  9.102314e-02        0.0       0.983644   \n",
      "10     -100.0        0.0 -3.011238e-01        0.0       2.789352   \n",
      "11       90.0      100.0  9.974533e+01      100.0       1.126752   \n",
      "12        0.0        1.0  1.470399e-01        0.0       0.354060   \n",
      "13       10.0       64.0  4.805307e+01       52.0      11.776752   \n",
      "14     -660.0      720.0 -3.445071e+02     -300.0      93.716148   \n",
      "15        0.0        2.0  6.455864e-01        1.0       0.627675   \n",
      "16        0.0        1.0  5.127880e-01        1.0       0.500211   \n",
      "17      100.0      229.0  1.894514e+02      166.0      30.377136   \n",
      "18       10.0       29.0  1.423734e+01       15.0       1.561116   \n",
      "19      100.0      671.0  3.531281e+02      341.0     141.112030   \n",
      "20      100.0      661.0  4.038826e+02      472.0     152.158493   \n",
      "21      100.0      854.0  3.682698e+02      252.0     198.849014   \n",
      "22       10.0       44.0  1.600271e+01       14.0       6.897755   \n",
      "23        0.0        2.0  4.428323e-01        0.0       0.694580   \n",
      "24       11.0       26.0  1.280093e+01       11.0       2.372468   \n",
      "25      100.0      548.0  3.296089e+02      321.0      97.462585   \n",
      "26      100.0      216.0  1.490703e+02      149.0      32.101933   \n",
      "27        0.0        1.0  9.972916e-01        1.0       0.051978   \n",
      "28        0.0        1.0  5.407369e-01        1.0       0.498445   \n",
      "29        0.0        1.0  5.314730e-01        1.0       0.498907   \n",
      "30        0.0        3.0  2.255850e+00        2.0       0.777438   \n",
      "31        0.0        4.0  2.122097e+00        3.0       1.283584   \n",
      "32        0.0       32.0  2.650860e+01       24.0       3.737366   \n",
      "33        0.0        2.0  1.194654e+00        1.0       0.532216   \n",
      "34       -1.0        2.0  1.765889e+00        2.0       0.436059   \n",
      "35        0.0        1.0  5.519311e-01        1.0       0.497402   \n",
      "36        0.0        1.0  4.907614e-02        0.0       0.216095   \n",
      "37        0.0        1.0  7.834309e-01        1.0       0.411800   \n",
      "38        0.0        1.0  4.756747e-01        0.0       0.499649   \n",
      "39        0.0        1.0  6.048221e-01        1.0       0.488874   \n",
      "40        0.0        4.0  2.497994e+00        2.0       1.150605   \n",
      "41        0.0        1.0  9.774809e-01        1.0       0.148365   \n",
      "42        0.0        1.0  9.774809e-01        1.0       0.148365   \n",
      "43        0.0        1.0  3.583785e-02        0.0       0.185886   \n",
      "44        0.0        1.0  5.448614e-01        1.0       0.497985   \n",
      "45        0.0        1.0  9.766974e-01        1.0       0.150863   \n",
      "46        0.0        1.0  9.726068e-01        1.0       0.163227   \n",
      "47        0.0        1.0  9.662837e-01        1.0       0.180499   \n",
      "48        0.0        1.0  9.489160e-01        1.0       0.220170   \n",
      "49        0.0        1.0  8.827383e-01        1.0       0.321733   \n",
      "50        0.0        1.0  8.967435e-01        1.0       0.304295   \n",
      "51        0.0        1.0  4.598393e-01        0.0       0.498386   \n",
      "52        0.0        1.0  5.194789e-01        1.0       0.499622   \n",
      "53        0.0        1.0  5.549631e-01        1.0       0.496972   \n",
      "54        0.0        1.0  3.127786e-01        0.0       0.463627   \n",
      "55        0.0        1.0  3.291202e-02        0.0       0.178407   \n",
      "\n",
      "                                       Unique Content  \n",
      "0                                                      \n",
      "1                                                      \n",
      "2                                                      \n",
      "3   [nan, 0.0, 3.0, 2.0, 5.0, 1.0, 6.0, 9.0, 4.0, ...  \n",
      "4   [nan, 0.0, -11.0, -5.0, -8.0, -1.0, -6.0, -9.0...  \n",
      "5                                                      \n",
      "6                                                      \n",
      "7                                                      \n",
      "8                                                      \n",
      "9   [nan, 0.0, 3.0, 2.0, 1.0, 5.0, -8.0, 7.0, 4.0,...  \n",
      "10                                                     \n",
      "11                                                     \n",
      "12                                         [0.0, 1.0]  \n",
      "13                                                     \n",
      "14  [-480.0, -300.0, nan, -360.0, -420.0, -540.0, ...  \n",
      "15                               [0.0, 1.0, nan, 2.0]  \n",
      "16                                    [0.0, 1.0, nan]  \n",
      "17                                                     \n",
      "18  [nan, 15.0, 18.0, 13.0, 12.0, 20.0, 21.0, 14.0...  \n",
      "19                                                     \n",
      "20                                                     \n",
      "21                                                     \n",
      "22  [nan, 14.0, 41.0, 21.0, 33.0, 35.0, 19.0, 20.0...  \n",
      "23                               [nan, 0.0, 1.0, 2.0]  \n",
      "24  [nan, 11.0, 15.0, 16.0, 12.0, 21.0, 18.0, 25.0...  \n",
      "25                                                     \n",
      "26                                                     \n",
      "27                                    [nan, 1.0, 0.0]  \n",
      "28                                    [0.0, 1.0, nan]  \n",
      "29                                    [0.0, 1.0, nan]  \n",
      "30                          [0.0, 1.0, nan, 3.0, 2.0]  \n",
      "31                          [3.0, 1.0, nan, 4.0, 0.0]  \n",
      "32                       [32.0, nan, 24.0, 16.0, 0.0]  \n",
      "33                               [1.0, nan, 0.0, 2.0]  \n",
      "34                         [2.0, 1.0, nan, 0.0, -1.0]  \n",
      "35                                    [1.0, 0.0, nan]  \n",
      "36                                    [0.0, nan, 1.0]  \n",
      "37                                    [1.0, 0.0, nan]  \n",
      "38                                    [1.0, nan, 0.0]  \n",
      "39                                    [0.0, 1.0, nan]  \n",
      "40                     [0.0, 1.0, 2.0, nan, 3.0, 4.0]  \n",
      "41                                             [1, 0]  \n",
      "42                                             [1, 0]  \n",
      "43                                             [0, 1]  \n",
      "44                                             [1, 0]  \n",
      "45                                             [1, 0]  \n",
      "46                                             [1, 0]  \n",
      "47                                             [1, 0]  \n",
      "48                                             [0, 1]  \n",
      "49                                             [0, 1]  \n",
      "50                                             [1, 0]  \n",
      "51                                             [0, 1]  \n",
      "52                                             [0, 1]  \n",
      "53                                             [1, 0]  \n",
      "54                                             [0, 1]  \n",
      "55                                             [0, 1]  \n"
     ]
    }
   ],
   "source": [
    "create_summary_excel(id_train_cleaned_pipeline)"
   ]
  },
  {
   "cell_type": "code",
   "execution_count": null,
   "id": "b1798a92-42d1-47a7-a17c-f238b6ff9e74",
   "metadata": {},
   "outputs": [],
   "source": []
  },
  {
   "cell_type": "code",
   "execution_count": null,
   "id": "cf6c1b79-6a77-442a-ac49-1135a46f872a",
   "metadata": {},
   "outputs": [],
   "source": []
  },
  {
   "cell_type": "code",
   "execution_count": null,
   "id": "f641234f-1c63-41bc-aaa8-e5816abdfd60",
   "metadata": {},
   "outputs": [],
   "source": []
  },
  {
   "cell_type": "code",
   "execution_count": null,
   "id": "22c21d50-9221-44d7-b683-bc15e6806eb6",
   "metadata": {},
   "outputs": [],
   "source": []
  },
  {
   "cell_type": "code",
   "execution_count": null,
   "id": "47915ea2-b93a-41e7-9c51-369ea951f11f",
   "metadata": {},
   "outputs": [],
   "source": []
  },
  {
   "cell_type": "code",
   "execution_count": null,
   "id": "a516854f-1fde-4bf5-8529-a6036b95a210",
   "metadata": {},
   "outputs": [],
   "source": []
  },
  {
   "cell_type": "code",
   "execution_count": null,
   "id": "7c5d4d52-7e2a-4a2b-8945-5a39962a7513",
   "metadata": {},
   "outputs": [],
   "source": []
  }
 ],
 "metadata": {
  "kernelspec": {
   "display_name": "Python [conda env:base] *",
   "language": "python",
   "name": "conda-base-py"
  },
  "language_info": {
   "codemirror_mode": {
    "name": "ipython",
    "version": 3
   },
   "file_extension": ".py",
   "mimetype": "text/x-python",
   "name": "python",
   "nbconvert_exporter": "python",
   "pygments_lexer": "ipython3",
   "version": "3.12.7"
  }
 },
 "nbformat": 4,
 "nbformat_minor": 5
}
